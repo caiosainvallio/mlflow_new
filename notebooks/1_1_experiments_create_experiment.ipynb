{
 "cells": [
  {
   "cell_type": "code",
   "execution_count": 1,
   "metadata": {},
   "outputs": [
    {
     "data": {
      "text/plain": [
       "'2.21.3'"
      ]
     },
     "execution_count": 1,
     "metadata": {},
     "output_type": "execute_result"
    }
   ],
   "source": [
    "import mlflow\n",
    "\n",
    "mlflow.__version__"
   ]
  },
  {
   "cell_type": "code",
   "execution_count": 5,
   "metadata": {},
   "outputs": [],
   "source": [
    "from src.utils.folder_operations import get_project_root\n",
    "\n",
    "# set mlflow tracking uri\n",
    "mlflow.set_tracking_uri(\n",
    "    (get_project_root() / 'mlflow_new/mlruns').as_uri()\n",
    ")\n"
   ]
  },
  {
   "cell_type": "markdown",
   "metadata": {},
   "source": [
    "# create_experiment"
   ]
  },
  {
   "cell_type": "code",
   "execution_count": 6,
   "metadata": {},
   "outputs": [
    {
     "name": "stdout",
     "output_type": "stream",
     "text": [
      "Experiment created with ID: 237666689542649959\n"
     ]
    }
   ],
   "source": [
    "# create experiment\n",
    "experiment_id = mlflow.create_experiment(\"creating-experiments\", tags={\n",
    "    \"topic\":\"experiment-management\",\n",
    "    \"version\": \"v1\"\n",
    "})\n",
    "\n",
    "print(f\"Experiment created with ID: {experiment_id}\")"
   ]
  },
  {
   "cell_type": "code",
   "execution_count": 7,
   "metadata": {},
   "outputs": [
    {
     "name": "stdout",
     "output_type": "stream",
     "text": [
      "Active run_id: 8f1d59a31df94226b691f85006e218f7\n"
     ]
    }
   ],
   "source": [
    "# Here we start a new run without specifying the experiment_id or having called mlflow.set_experiment()\n",
    "# This will create a new run in the default experiment\n",
    "with mlflow.start_run() as run:\n",
    "    print(f\"Active run_id: {run.info.run_id}\")"
   ]
  },
  {
   "cell_type": "markdown",
   "metadata": {},
   "source": [
    "# set_experiment"
   ]
  },
  {
   "cell_type": "code",
   "execution_count": 8,
   "metadata": {},
   "outputs": [],
   "source": [
    "# We set the experiment to the one we created earlier.\n",
    "experiment = mlflow.set_experiment(experiment_name=\"creating-experiments\")"
   ]
  },
  {
   "cell_type": "code",
   "execution_count": 10,
   "metadata": {},
   "outputs": [
    {
     "name": "stdout",
     "output_type": "stream",
     "text": [
      "Active run_id: 30a7772b35704841adcfc7fa3af05dae\n"
     ]
    }
   ],
   "source": [
    "# Now we start a new run, this will create a new run in the experiment we set\n",
    "with mlflow.start_run() as run:\n",
    "    print(f\"Active run_id: {run.info.run_id}\")"
   ]
  },
  {
   "cell_type": "code",
   "execution_count": null,
   "metadata": {},
   "outputs": [],
   "source": []
  }
 ],
 "metadata": {
  "kernelspec": {
   "display_name": ".venv",
   "language": "python",
   "name": "python3"
  },
  "language_info": {
   "codemirror_mode": {
    "name": "ipython",
    "version": 3
   },
   "file_extension": ".py",
   "mimetype": "text/x-python",
   "name": "python",
   "nbconvert_exporter": "python",
   "pygments_lexer": "ipython3",
   "version": "3.13.0"
  }
 },
 "nbformat": 4,
 "nbformat_minor": 2
}
