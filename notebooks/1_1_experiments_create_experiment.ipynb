{
 "cells": [
  {
   "cell_type": "code",
   "execution_count": 2,
   "metadata": {},
   "outputs": [
    {
     "data": {
      "text/plain": [
       "'2.21.3'"
      ]
     },
     "execution_count": 2,
     "metadata": {},
     "output_type": "execute_result"
    }
   ],
   "source": [
    "import mlflow\n",
    "\n",
    "mlflow.__version__"
   ]
  },
  {
   "cell_type": "code",
   "execution_count": 3,
   "metadata": {},
   "outputs": [],
   "source": [
    "from src.utils.folder_operations import get_project_root\n",
    "\n",
    "# set mlflow tracking uri\n",
    "mlflow.set_tracking_uri(\n",
    "    # (get_project_root() / 'mlflow_new/mlruns').as_uri()\n",
    "    \"http://localhost:3000\"\n",
    ")\n"
   ]
  },
  {
   "cell_type": "markdown",
   "metadata": {},
   "source": [
    "# create_experiment"
   ]
  },
  {
   "cell_type": "code",
   "execution_count": 4,
   "metadata": {},
   "outputs": [
    {
     "name": "stdout",
     "output_type": "stream",
     "text": [
      "Experiment created with ID: 1\n"
     ]
    }
   ],
   "source": [
    "# create experiment\n",
    "experiment_id = mlflow.create_experiment(\"creating-experiments\", tags={\n",
    "    \"topic\":\"experiment-management\",\n",
    "    \"version\": \"v1\"\n",
    "})\n",
    "\n",
    "print(f\"Experiment created with ID: {experiment_id}\")"
   ]
  },
  {
   "cell_type": "code",
   "execution_count": 5,
   "metadata": {},
   "outputs": [
    {
     "name": "stdout",
     "output_type": "stream",
     "text": [
      "Active run_id: 5d15ef5182984d62bc6d8b671e790e1f\n",
      "🏃 View run unruly-slug-329 at: http://localhost:3000/#/experiments/0/runs/5d15ef5182984d62bc6d8b671e790e1f\n",
      "🧪 View experiment at: http://localhost:3000/#/experiments/0\n"
     ]
    }
   ],
   "source": [
    "# Here we start a new run without specifying the experiment_id or having called mlflow.set_experiment()\n",
    "# This will create a new run in the default experiment\n",
    "with mlflow.start_run() as run:\n",
    "    print(f\"Active run_id: {run.info.run_id}\")"
   ]
  },
  {
   "cell_type": "markdown",
   "metadata": {},
   "source": [
    "# set_experiment"
   ]
  },
  {
   "cell_type": "code",
   "execution_count": 6,
   "metadata": {},
   "outputs": [],
   "source": [
    "# We set the experiment to the one we created earlier.\n",
    "experiment = mlflow.set_experiment(experiment_name=\"creating-experiments\")"
   ]
  },
  {
   "cell_type": "code",
   "execution_count": 7,
   "metadata": {},
   "outputs": [
    {
     "name": "stdout",
     "output_type": "stream",
     "text": [
      "Active run_id: bbf9917df8a14ba0abbe3bb1481417cf\n",
      "🏃 View run nervous-sow-849 at: http://localhost:3000/#/experiments/1/runs/bbf9917df8a14ba0abbe3bb1481417cf\n",
      "🧪 View experiment at: http://localhost:3000/#/experiments/1\n"
     ]
    }
   ],
   "source": [
    "# Now we start a new run, this will create a new run in the experiment we set\n",
    "with mlflow.start_run() as run:\n",
    "    print(f\"Active run_id: {run.info.run_id}\")"
   ]
  },
  {
   "cell_type": "code",
   "execution_count": null,
   "metadata": {},
   "outputs": [],
   "source": []
  }
 ],
 "metadata": {
  "kernelspec": {
   "display_name": ".venv",
   "language": "python",
   "name": "python3"
  },
  "language_info": {
   "codemirror_mode": {
    "name": "ipython",
    "version": 3
   },
   "file_extension": ".py",
   "mimetype": "text/x-python",
   "name": "python",
   "nbconvert_exporter": "python",
   "pygments_lexer": "ipython3",
   "version": "3.13.0"
  }
 },
 "nbformat": 4,
 "nbformat_minor": 2
}
