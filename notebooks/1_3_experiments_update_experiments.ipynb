{
 "cells": [
  {
   "cell_type": "code",
   "execution_count": 1,
   "metadata": {},
   "outputs": [
    {
     "data": {
      "text/plain": [
       "'2.21.3'"
      ]
     },
     "execution_count": 1,
     "metadata": {},
     "output_type": "execute_result"
    }
   ],
   "source": [
    "import mlflow\n",
    "\n",
    "mlflow.__version__"
   ]
  },
  {
   "cell_type": "code",
   "execution_count": 3,
   "metadata": {},
   "outputs": [],
   "source": [
    "from src.utils.folder_operations import get_project_root\n",
    "\n",
    "# set mlflow tracking uri\n",
    "mlflow.set_tracking_uri(\n",
    "    # (get_project_root() / 'mlflow_new/mlruns').as_uri()\n",
    "    \"http://localhost:3000\"\n",
    ")"
   ]
  },
  {
   "cell_type": "markdown",
   "metadata": {},
   "source": [
    "# set_experiment_tag"
   ]
  },
  {
   "cell_type": "code",
   "execution_count": 4,
   "metadata": {},
   "outputs": [
    {
     "name": "stdout",
     "output_type": "stream",
     "text": [
      "experiment_id: \"1\"\n",
      "name: \"creating-experiments\"\n",
      "artifact_location: \"s3://mlflow/1\"\n",
      "lifecycle_stage: \"active\"\n",
      "last_update_time: 1746624590053\n",
      "creation_time: 1746624590053\n",
      "tags {\n",
      "  key: \"topic\"\n",
      "  value: \"experiment-management\"\n",
      "}\n",
      "tags {\n",
      "  key: \"version\"\n",
      "  value: \"v1\"\n",
      "}\n",
      "\n"
     ]
    }
   ],
   "source": [
    "experiment = mlflow.set_experiment(experiment_name=\"creating-experiments\")\n",
    "print(experiment.to_proto())"
   ]
  },
  {
   "cell_type": "code",
   "execution_count": 5,
   "metadata": {},
   "outputs": [
    {
     "name": "stdout",
     "output_type": "stream",
     "text": [
      "experiment_id: \"1\"\n",
      "name: \"creating-experiments\"\n",
      "artifact_location: \"s3://mlflow/1\"\n",
      "lifecycle_stage: \"active\"\n",
      "last_update_time: 1746624590053\n",
      "creation_time: 1746624590053\n",
      "tags {\n",
      "  key: \"topic\"\n",
      "  value: \"experiment-management\"\n",
      "}\n",
      "tags {\n",
      "  key: \"version\"\n",
      "  value: \"v1\"\n",
      "}\n",
      "tags {\n",
      "  key: \"new-tag\"\n",
      "  value: \"new-tag-value\"\n",
      "}\n",
      "\n"
     ]
    }
   ],
   "source": [
    "# create a new tag\n",
    "mlflow.set_experiment_tag(key=\"new-tag\", value=\"new-tag-value\")\n",
    "\n",
    "# retrieve the experiment\n",
    "experiment = mlflow.set_experiment(experiment_name=\"creating-experiments\")\n",
    "print(experiment.to_proto())"
   ]
  },
  {
   "cell_type": "code",
   "execution_count": 6,
   "metadata": {},
   "outputs": [
    {
     "name": "stdout",
     "output_type": "stream",
     "text": [
      "experiment_id: \"1\"\n",
      "name: \"creating-experiments\"\n",
      "artifact_location: \"s3://mlflow/1\"\n",
      "lifecycle_stage: \"active\"\n",
      "last_update_time: 1746624590053\n",
      "creation_time: 1746624590053\n",
      "tags {\n",
      "  key: \"topic\"\n",
      "  value: \"experiment-management\"\n",
      "}\n",
      "tags {\n",
      "  key: \"version\"\n",
      "  value: \"v1\"\n",
      "}\n",
      "tags {\n",
      "  key: \"new-tag\"\n",
      "  value: \"new-tag-value-updated\"\n",
      "}\n",
      "\n"
     ]
    }
   ],
   "source": [
    "# update an existing tag\n",
    "mlflow.set_experiment_tag(key=\"new-tag\", value=\"new-tag-value-updated\")\n",
    "\n",
    "# retrieve the experiment\n",
    "experiment = mlflow.set_experiment(experiment_name=\"creating-experiments\")\n",
    "print(experiment.to_proto())"
   ]
  },
  {
   "cell_type": "code",
   "execution_count": 7,
   "metadata": {},
   "outputs": [
    {
     "name": "stdout",
     "output_type": "stream",
     "text": [
      "experiment_id: \"1\"\n",
      "name: \"creating-experiments\"\n",
      "artifact_location: \"s3://mlflow/1\"\n",
      "lifecycle_stage: \"active\"\n",
      "last_update_time: 1746624590053\n",
      "creation_time: 1746624590053\n",
      "tags {\n",
      "  key: \"topic\"\n",
      "  value: \"experiment-management\"\n",
      "}\n",
      "tags {\n",
      "  key: \"new-tag\"\n",
      "  value: \"new-tag-value-updated-again\"\n",
      "}\n",
      "tags {\n",
      "  key: \"version\"\n",
      "  value: \"v2\"\n",
      "}\n",
      "\n"
     ]
    }
   ],
   "source": [
    "# update multiple tags\n",
    "mlflow.set_experiment_tags(tags={\"new-tag\": \"new-tag-value-updated-again\", \"version\":\"v2\"})\n",
    "\n",
    "# retrieve the experiment\n",
    "experiment = mlflow.set_experiment(experiment_name=\"creating-experiments\")\n",
    "print(experiment.to_proto())"
   ]
  },
  {
   "cell_type": "markdown",
   "metadata": {},
   "source": [
    "# using client"
   ]
  },
  {
   "cell_type": "code",
   "execution_count": 8,
   "metadata": {},
   "outputs": [],
   "source": [
    "client = mlflow.MlflowClient()"
   ]
  },
  {
   "cell_type": "code",
   "execution_count": 9,
   "metadata": {},
   "outputs": [
    {
     "name": "stdout",
     "output_type": "stream",
     "text": [
      "experiment_id: \"1\"\n",
      "name: \"creating-experiments\"\n",
      "artifact_location: \"s3://mlflow/1\"\n",
      "lifecycle_stage: \"active\"\n",
      "last_update_time: 1746624590053\n",
      "creation_time: 1746624590053\n",
      "tags {\n",
      "  key: \"topic\"\n",
      "  value: \"experiment-management\"\n",
      "}\n",
      "tags {\n",
      "  key: \"version\"\n",
      "  value: \"v2\"\n",
      "}\n",
      "tags {\n",
      "  key: \"new-tag\"\n",
      "  value: \"new-tag-value-updated-with client\"\n",
      "}\n",
      "\n"
     ]
    }
   ],
   "source": [
    "client.set_experiment_tag(experiment_id=experiment.experiment_id, key=\"new-tag\", value=\"new-tag-value-updated-with client\")\n",
    "\n",
    "# retrieve the experiment\n",
    "experiment = mlflow.set_experiment(experiment_name=\"creating-experiments\")\n",
    "print(experiment.to_proto())"
   ]
  },
  {
   "cell_type": "markdown",
   "metadata": {},
   "source": [
    "# description of the experiment\n",
    "\n",
    "tag: key=`mlflow.note.content`"
   ]
  },
  {
   "cell_type": "code",
   "execution_count": 10,
   "metadata": {},
   "outputs": [],
   "source": [
    "# create a new tag\n",
    "mlflow.set_experiment_tag(key=\"mlflow.note.content\", value=\"This is the description for the experiment\")"
   ]
  },
  {
   "cell_type": "code",
   "execution_count": 11,
   "metadata": {},
   "outputs": [
    {
     "name": "stdout",
     "output_type": "stream",
     "text": [
      "experiment_id: \"1\"\n",
      "name: \"creating-experiments\"\n",
      "artifact_location: \"s3://mlflow/1\"\n",
      "lifecycle_stage: \"active\"\n",
      "last_update_time: 1746624590053\n",
      "creation_time: 1746624590053\n",
      "tags {\n",
      "  key: \"topic\"\n",
      "  value: \"experiment-management\"\n",
      "}\n",
      "tags {\n",
      "  key: \"version\"\n",
      "  value: \"v2\"\n",
      "}\n",
      "tags {\n",
      "  key: \"new-tag\"\n",
      "  value: \"new-tag-value-updated-with client\"\n",
      "}\n",
      "tags {\n",
      "  key: \"mlflow.note.content\"\n",
      "  value: \"This is the description for the experiment\"\n",
      "}\n",
      "\n"
     ]
    }
   ],
   "source": [
    "# retrieve the experiment\n",
    "experiment = mlflow.set_experiment(experiment_name=\"creating-experiments\")\n",
    "print(experiment.to_proto())"
   ]
  },
  {
   "cell_type": "markdown",
   "metadata": {},
   "source": [
    "# rename the experiment"
   ]
  },
  {
   "cell_type": "code",
   "execution_count": 12,
   "metadata": {},
   "outputs": [
    {
     "name": "stdout",
     "output_type": "stream",
     "text": [
      "experiment_id: \"1\"\n",
      "name: \"renamed-experiment\"\n",
      "artifact_location: \"s3://mlflow/1\"\n",
      "lifecycle_stage: \"active\"\n",
      "last_update_time: 1746625006145\n",
      "creation_time: 1746624590053\n",
      "tags {\n",
      "  key: \"topic\"\n",
      "  value: \"experiment-management\"\n",
      "}\n",
      "tags {\n",
      "  key: \"version\"\n",
      "  value: \"v2\"\n",
      "}\n",
      "tags {\n",
      "  key: \"new-tag\"\n",
      "  value: \"new-tag-value-updated-with client\"\n",
      "}\n",
      "tags {\n",
      "  key: \"mlflow.note.content\"\n",
      "  value: \"This is the description for the experiment\"\n",
      "}\n",
      "\n"
     ]
    }
   ],
   "source": [
    "client = mlflow.MlflowClient()\n",
    "\n",
    "client.rename_experiment(experiment_id=experiment.experiment_id, new_name=\"renamed-experiment\")\n",
    "\n",
    "# retrieve the experiment\n",
    "experiment = mlflow.set_experiment(experiment_name=\"renamed-experiment\")\n",
    "print(experiment.to_proto())"
   ]
  },
  {
   "cell_type": "code",
   "execution_count": null,
   "metadata": {},
   "outputs": [],
   "source": []
  }
 ],
 "metadata": {
  "kernelspec": {
   "display_name": ".venv",
   "language": "python",
   "name": "python3"
  },
  "language_info": {
   "codemirror_mode": {
    "name": "ipython",
    "version": 3
   },
   "file_extension": ".py",
   "mimetype": "text/x-python",
   "name": "python",
   "nbconvert_exporter": "python",
   "pygments_lexer": "ipython3",
   "version": "3.13.0"
  }
 },
 "nbformat": 4,
 "nbformat_minor": 2
}
