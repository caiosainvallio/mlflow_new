{
 "cells": [
  {
   "cell_type": "code",
   "execution_count": 3,
   "metadata": {},
   "outputs": [
    {
     "data": {
      "text/plain": [
       "'2.21.3'"
      ]
     },
     "execution_count": 3,
     "metadata": {},
     "output_type": "execute_result"
    }
   ],
   "source": [
    "import mlflow\n",
    "\n",
    "mlflow.__version__"
   ]
  },
  {
   "cell_type": "code",
   "execution_count": 4,
   "metadata": {},
   "outputs": [],
   "source": [
    "from src.utils.folder_operations import get_project_root\n",
    "\n",
    "# set mlflow tracking uri\n",
    "mlflow.set_tracking_uri(\n",
    "    (get_project_root() / 'mlflow_new/mlruns').as_uri()\n",
    ")"
   ]
  },
  {
   "cell_type": "markdown",
   "metadata": {},
   "source": [
    "# start_run"
   ]
  },
  {
   "cell_type": "code",
   "execution_count": 5,
   "metadata": {},
   "outputs": [],
   "source": [
    "run = mlflow.start_run()"
   ]
  },
  {
   "cell_type": "code",
   "execution_count": 6,
   "metadata": {},
   "outputs": [
    {
     "name": "stdout",
     "output_type": "stream",
     "text": [
      "ActiveRun\n"
     ]
    }
   ],
   "source": [
    "print(type(run).__name__)"
   ]
  },
  {
   "cell_type": "code",
   "execution_count": 7,
   "metadata": {},
   "outputs": [
    {
     "data": {
      "text/plain": [
       "run_uuid: \"f7b5077027bd449ba074b4e9489f96b5\"\n",
       "experiment_id: \"0\"\n",
       "run_name: \"bedecked-mink-176\"\n",
       "user_id: \"caiosainvallio\"\n",
       "status: RUNNING\n",
       "start_time: 1745274014765\n",
       "artifact_uri: \"file:///Users/caiosainvallio/projects/mlflow_new/mlruns/0/f7b5077027bd449ba074b4e9489f96b5/artifacts\"\n",
       "lifecycle_stage: \"active\"\n",
       "run_id: \"f7b5077027bd449ba074b4e9489f96b5\""
      ]
     },
     "execution_count": 7,
     "metadata": {},
     "output_type": "execute_result"
    }
   ],
   "source": [
    "run.info.to_proto()"
   ]
  },
  {
   "cell_type": "code",
   "execution_count": 8,
   "metadata": {},
   "outputs": [
    {
     "data": {
      "text/plain": [
       "{'metrics': {},\n",
       " 'params': {},\n",
       " 'tags': {'mlflow.user': 'caiosainvallio',\n",
       "  'mlflow.runName': 'bedecked-mink-176',\n",
       "  'mlflow.source.name': '/Users/caiosainvallio/projects/mlflow_new/.venv/lib/python3.13/site-packages/ipykernel_launcher.py',\n",
       "  'mlflow.source.type': 'LOCAL'}}"
      ]
     },
     "execution_count": 8,
     "metadata": {},
     "output_type": "execute_result"
    }
   ],
   "source": [
    "run.data.to_dictionary()"
   ]
  },
  {
   "cell_type": "code",
   "execution_count": 9,
   "metadata": {},
   "outputs": [],
   "source": [
    "# Simulating a machine Learning run\n",
    "\n",
    "# Machine learing code here\n",
    "# ...\n",
    "\n",
    "# logging some random parameters\n",
    "mlflow.log_param(\"param1\", 5)\n",
    "mlflow.log_param(\"param2\", 5)\n",
    "mlflow.log_param(\"param3\", 5)\n",
    "\n",
    "# logging some random metrics\n",
    "mlflow.log_metric(\"metric1\", 15)\n",
    "mlflow.log_metric(\"metric2\", 52)\n",
    "mlflow.log_metric(\"metric3\", 35)"
   ]
  },
  {
   "cell_type": "code",
   "execution_count": 10,
   "metadata": {},
   "outputs": [],
   "source": [
    "# Get the updated run object. This method will return the updated run object\n",
    "run = mlflow.get_run(run_id=run.info.run_id)"
   ]
  },
  {
   "cell_type": "code",
   "execution_count": 11,
   "metadata": {},
   "outputs": [
    {
     "data": {
      "text/plain": [
       "run_uuid: \"f7b5077027bd449ba074b4e9489f96b5\"\n",
       "experiment_id: \"0\"\n",
       "run_name: \"bedecked-mink-176\"\n",
       "user_id: \"caiosainvallio\"\n",
       "status: RUNNING\n",
       "start_time: 1745274014765\n",
       "artifact_uri: \"file:///Users/caiosainvallio/projects/mlflow_new/mlruns/0/f7b5077027bd449ba074b4e9489f96b5/artifacts\"\n",
       "lifecycle_stage: \"active\"\n",
       "run_id: \"f7b5077027bd449ba074b4e9489f96b5\""
      ]
     },
     "execution_count": 11,
     "metadata": {},
     "output_type": "execute_result"
    }
   ],
   "source": [
    "run.info.to_proto()"
   ]
  },
  {
   "cell_type": "code",
   "execution_count": 12,
   "metadata": {},
   "outputs": [
    {
     "data": {
      "text/plain": [
       "{'metrics': {'metric1': 15.0, 'metric2': 52.0, 'metric3': 35.0},\n",
       " 'params': {'param2': '5', 'param3': '5', 'param1': '5'},\n",
       " 'tags': {'mlflow.user': 'caiosainvallio',\n",
       "  'mlflow.runName': 'bedecked-mink-176',\n",
       "  'mlflow.source.name': '/Users/caiosainvallio/projects/mlflow_new/.venv/lib/python3.13/site-packages/ipykernel_launcher.py',\n",
       "  'mlflow.source.type': 'LOCAL'}}"
      ]
     },
     "execution_count": 12,
     "metadata": {},
     "output_type": "execute_result"
    }
   ],
   "source": [
    "run.data.to_dictionary()"
   ]
  },
  {
   "cell_type": "code",
   "execution_count": 13,
   "metadata": {},
   "outputs": [
    {
     "name": "stdout",
     "output_type": "stream",
     "text": [
      "Run with UUID f7b5077027bd449ba074b4e9489f96b5 is already active. To start a new run, first end the current run with mlflow.end_run(). To start a nested run, call start_run with nested=True\n"
     ]
    }
   ],
   "source": [
    "#starting a new run without ending the previous one will throw an error\n",
    "try:\n",
    "    run2 = mlflow.start_run()\n",
    "except Exception as e:\n",
    "    print(e)"
   ]
  },
  {
   "cell_type": "markdown",
   "metadata": {},
   "source": [
    "# end_run"
   ]
  },
  {
   "cell_type": "code",
   "execution_count": 14,
   "metadata": {},
   "outputs": [],
   "source": [
    "# To start a new run, first end the current run with mlflow.end_run().\n",
    "mlflow.end_run()"
   ]
  },
  {
   "cell_type": "code",
   "execution_count": 15,
   "metadata": {},
   "outputs": [
    {
     "name": "stdout",
     "output_type": "stream",
     "text": [
      "active\n"
     ]
    }
   ],
   "source": [
    "#starting a new run\n",
    "run2 = mlflow.start_run()\n",
    "print(run2.info.lifecycle_stage)"
   ]
  },
  {
   "cell_type": "code",
   "execution_count": 16,
   "metadata": {},
   "outputs": [],
   "source": [
    "mlflow.end_run()"
   ]
  },
  {
   "cell_type": "markdown",
   "metadata": {},
   "source": [
    "# Using run object as context manager"
   ]
  },
  {
   "cell_type": "code",
   "execution_count": 17,
   "metadata": {},
   "outputs": [
    {
     "name": "stdout",
     "output_type": "stream",
     "text": [
      "WITHIN RUN CONTEXT\n",
      "Run Status:  RUNNING\n",
      "OUTSIDE RUN CONTEXT\n",
      "Run Status:  FINISHED\n",
      "{'metrics': {'metric1': 15.0, 'metric2': 52.0, 'metric3': 35.0}, 'params': {'param2': '5', 'param3': '5', 'param1': '5'}, 'tags': {'mlflow.user': 'caiosainvallio', 'mlflow.runName': 'sassy-panda-133', 'mlflow.source.name': '/Users/caiosainvallio/projects/mlflow_new/.venv/lib/python3.13/site-packages/ipykernel_launcher.py', 'mlflow.source.type': 'LOCAL'}}\n"
     ]
    }
   ],
   "source": [
    "with mlflow.start_run() as run: \n",
    "    print(\"WITHIN RUN CONTEXT\")\n",
    "    print(\"Run Status: \",run.info.status)\n",
    "\n",
    "    # logging some random parameters\n",
    "    mlflow.log_param(\"param1\", 5)\n",
    "    mlflow.log_param(\"param2\", 5)\n",
    "    mlflow.log_param(\"param3\", 5)\n",
    "\n",
    "    # logging some random metrics\n",
    "    mlflow.log_metric(\"metric1\", 15)\n",
    "    mlflow.log_metric(\"metric2\", 52)\n",
    "    mlflow.log_metric(\"metric3\", 35)\n",
    "\n",
    "\n",
    "print(\"OUTSIDE RUN CONTEXT\")\n",
    "# Get the updated run object. This method will return the updated run object\n",
    "run = mlflow.get_run(run_id=run.info.run_id)\n",
    "\n",
    "print(\"Run Status: \",run.info.status)\n",
    "print(run.data.to_dictionary())"
   ]
  },
  {
   "cell_type": "markdown",
   "metadata": {},
   "source": [
    "# Creating run using Client"
   ]
  },
  {
   "cell_type": "code",
   "execution_count": 18,
   "metadata": {},
   "outputs": [
    {
     "name": "stdout",
     "output_type": "stream",
     "text": [
      "Run\n"
     ]
    }
   ],
   "source": [
    "client = mlflow.MlflowClient()\n",
    "\n",
    "# create a run in the default experiment\n",
    "run = client.create_run(experiment_id=\"0\") \n",
    "\n",
    "print(type(run).__name__)"
   ]
  },
  {
   "cell_type": "code",
   "execution_count": 19,
   "metadata": {},
   "outputs": [
    {
     "data": {
      "text/plain": [
       "run_uuid: \"10711172a13842fb8b62dd56bdbb1e66\"\n",
       "experiment_id: \"0\"\n",
       "run_name: \"thundering-gnat-607\"\n",
       "user_id: \"unknown\"\n",
       "status: RUNNING\n",
       "start_time: 1745274599520\n",
       "artifact_uri: \"file:///Users/caiosainvallio/projects/mlflow_new/mlruns/0/10711172a13842fb8b62dd56bdbb1e66/artifacts\"\n",
       "lifecycle_stage: \"active\"\n",
       "run_id: \"10711172a13842fb8b62dd56bdbb1e66\""
      ]
     },
     "execution_count": 19,
     "metadata": {},
     "output_type": "execute_result"
    }
   ],
   "source": [
    "run.info.to_proto()"
   ]
  },
  {
   "cell_type": "code",
   "execution_count": 20,
   "metadata": {},
   "outputs": [],
   "source": [
    "mlflow.log_metric(\"random-metric\", 10)"
   ]
  },
  {
   "cell_type": "code",
   "execution_count": 21,
   "metadata": {},
   "outputs": [],
   "source": [
    "mlflow.end_run()"
   ]
  },
  {
   "cell_type": "code",
   "execution_count": 22,
   "metadata": {},
   "outputs": [
    {
     "name": "stdout",
     "output_type": "stream",
     "text": [
      "log_param() got an unexpected keyword argument 'run_id'\n"
     ]
    }
   ],
   "source": [
    "# Associating metrics and parameters with the run\n",
    "mlflow.log_metric(key=\"m1\", value=1.5, run_id=run.info.run_id)\n",
    "\n",
    "# log_param does not accept run_id as parameter\n",
    "try:\n",
    "    mlflow.log_param(key=\"p1\", value=2.5, run_id=run.info.run_id)\n",
    "except Exception as e:\n",
    "    print(e)"
   ]
  },
  {
   "cell_type": "markdown",
   "metadata": {},
   "source": [
    "# set_terminated\n",
    "\n",
    "Ending a with the client"
   ]
  },
  {
   "cell_type": "code",
   "execution_count": 23,
   "metadata": {},
   "outputs": [
    {
     "name": "stdout",
     "output_type": "stream",
     "text": [
      "FINISHED\n"
     ]
    }
   ],
   "source": [
    "client = mlflow.MlflowClient()\n",
    "\n",
    "client.set_terminated(run_id = run.info.run_id)\n",
    "\n",
    "# retrieve the run object to verify that the run is terminated\n",
    "run = mlflow.get_run(run.info.run_id)\n",
    "print(run.info.status)"
   ]
  },
  {
   "cell_type": "markdown",
   "metadata": {},
   "source": [
    "# Using run as context manager"
   ]
  },
  {
   "cell_type": "code",
   "execution_count": 24,
   "metadata": {},
   "outputs": [
    {
     "name": "stdout",
     "output_type": "stream",
     "text": [
      "Run\n",
      "ActiveRun\n",
      "WITHIN RUN CONTEXT\n",
      "Run Name:  redolent-hog-941\n",
      "Run Status:  RUNNING\n",
      "OUTSIDE CONTEXT\n",
      "Run Name:  redolent-hog-941\n",
      "Run Status:  FINISHED\n",
      "Run Data\n",
      "{'metrics': {'m1': 2.0}, 'params': {'p1': '1'}, 'tags': {'mlflow.runName': 'redolent-hog-941'}}\n"
     ]
    }
   ],
   "source": [
    "run = client.create_run(experiment_id=\"0\")\n",
    "print(type(run).__name__)\n",
    "with mlflow.start_run(run_id=run.info.run_id) as run:\n",
    "    print(type(run).__name__)\n",
    "    print(\"WITHIN RUN CONTEXT\")\n",
    "    print(\"Run Name: \", run.info.run_name)\n",
    "    print(\"Run Status: \",run.info.status)\n",
    "    mlflow.log_param(\"p1\", 1)\n",
    "    mlflow.log_metric(\"m1\", 2)\n",
    "\n",
    "\n",
    "run = client.get_run(run.info.run_id)\n",
    "print(\"OUTSIDE CONTEXT\")\n",
    "print(\"Run Name: \", run.info.run_name)\n",
    "print(\"Run Status: \",run.info.status)\n",
    "print(\"Run Data\")\n",
    "print(run.data.to_dictionary())"
   ]
  }
 ],
 "metadata": {
  "kernelspec": {
   "display_name": ".venv",
   "language": "python",
   "name": "python3"
  },
  "language_info": {
   "codemirror_mode": {
    "name": "ipython",
    "version": 3
   },
   "file_extension": ".py",
   "mimetype": "text/x-python",
   "name": "python",
   "nbconvert_exporter": "python",
   "pygments_lexer": "ipython3",
   "version": "3.13.0"
  }
 },
 "nbformat": 4,
 "nbformat_minor": 2
}
