{
 "cells": [
  {
   "cell_type": "code",
   "execution_count": 1,
   "metadata": {},
   "outputs": [
    {
     "data": {
      "text/plain": [
       "'2.21.3'"
      ]
     },
     "execution_count": 1,
     "metadata": {},
     "output_type": "execute_result"
    }
   ],
   "source": [
    "import mlflow\n",
    "\n",
    "mlflow.__version__"
   ]
  },
  {
   "cell_type": "code",
   "execution_count": 2,
   "metadata": {},
   "outputs": [],
   "source": [
    "from src.utils.folder_operations import get_project_root\n",
    "\n",
    "# set mlflow tracking uri\n",
    "mlflow.set_tracking_uri(\n",
    "    (get_project_root() / 'mlflow_new/mlruns').as_uri()\n",
    ")"
   ]
  },
  {
   "cell_type": "markdown",
   "metadata": {},
   "source": [
    "# get_run\n"
   ]
  },
  {
   "cell_type": "code",
   "execution_count": 3,
   "metadata": {},
   "outputs": [
    {
     "name": "stdout",
     "output_type": "stream",
     "text": [
      "run_uuid: \"5a51f808dc1c46f3b0669d5547e533b0\"\n",
      "experiment_id: \"0\"\n",
      "run_name: \"redolent-hog-941\"\n",
      "user_id: \"unknown\"\n",
      "status: FINISHED\n",
      "start_time: 1745274714076\n",
      "end_time: 1745274714083\n",
      "artifact_uri: \"file:///Users/caiosainvallio/projects/mlflow_new/mlruns/0/5a51f808dc1c46f3b0669d5547e533b0/artifacts\"\n",
      "lifecycle_stage: \"active\"\n",
      "run_id: \"5a51f808dc1c46f3b0669d5547e533b0\"\n",
      "\n",
      "{'metrics': {'m1': 2.0}, 'params': {'p1': '1'}, 'tags': {'mlflow.runName': 'redolent-hog-941'}}\n"
     ]
    }
   ],
   "source": [
    "run_id = \"5a51f808dc1c46f3b0669d5547e533b0\"\n",
    "run = mlflow.get_run(run_id)\n",
    "print(run.info.to_proto())\n",
    "print(run.data.to_dictionary())"
   ]
  },
  {
   "cell_type": "markdown",
   "metadata": {},
   "source": [
    "# get_run from client"
   ]
  },
  {
   "cell_type": "code",
   "execution_count": 4,
   "metadata": {},
   "outputs": [
    {
     "name": "stdout",
     "output_type": "stream",
     "text": [
      "{'metrics': {'m1': 2.0}, 'params': {'p1': '1'}, 'tags': {'mlflow.runName': 'redolent-hog-941'}}\n"
     ]
    }
   ],
   "source": [
    "client = mlflow.MlflowClient()\n",
    "\n",
    "# Get the run object\n",
    "run = client.get_run(run_id)\n",
    "\n",
    "# Get the run's data\n",
    "print(run.data.to_dictionary())"
   ]
  },
  {
   "cell_type": "markdown",
   "metadata": {},
   "source": [
    "# active_run"
   ]
  },
  {
   "cell_type": "code",
   "execution_count": 5,
   "metadata": {},
   "outputs": [
    {
     "name": "stdout",
     "output_type": "stream",
     "text": [
      "None\n"
     ]
    }
   ],
   "source": [
    "# This method will return the currently active run (if one exists), or None if no run is active\n",
    "run  = mlflow.active_run()\n",
    "\n",
    "print(run)"
   ]
  },
  {
   "cell_type": "code",
   "execution_count": 6,
   "metadata": {},
   "outputs": [
    {
     "name": "stdout",
     "output_type": "stream",
     "text": [
      "active\n",
      "RUNNING\n",
      "skillful-gnat-630\n",
      "None\n"
     ]
    }
   ],
   "source": [
    "# Starting new active run\n",
    "mlflow.start_run()\n",
    "# Get the active run\n",
    "run = mlflow.active_run()\n",
    "# Print the lifecycle stage of the active run\n",
    "print(run.info.lifecycle_stage)\n",
    "print(run.info.status)\n",
    "print(run.info.run_name)\n",
    "# End the active run\n",
    "mlflow.end_run()\n",
    "# Get the active run\n",
    "run = mlflow.active_run()\n",
    "\n",
    "print(run)"
   ]
  },
  {
   "cell_type": "markdown",
   "metadata": {},
   "source": [
    "# last_active_run"
   ]
  },
  {
   "cell_type": "code",
   "execution_count": 7,
   "metadata": {},
   "outputs": [
    {
     "name": "stdout",
     "output_type": "stream",
     "text": [
      "<Run: data=<RunData: metrics={}, params={}, tags={'mlflow.runName': 'skillful-gnat-630',\n",
      " 'mlflow.source.name': '/Users/caiosainvallio/projects/mlflow_new/.venv/lib/python3.13/site-packages/ipykernel_launcher.py',\n",
      " 'mlflow.source.type': 'LOCAL',\n",
      " 'mlflow.user': 'caiosainvallio'}>, info=<RunInfo: artifact_uri='file:///Users/caiosainvallio/projects/mlflow_new/mlruns/0/a944008e4b494bcd9252a440702c5ed0/artifacts', end_time=1745275245828, experiment_id='0', lifecycle_stage='active', run_id='a944008e4b494bcd9252a440702c5ed0', run_name='skillful-gnat-630', run_uuid='a944008e4b494bcd9252a440702c5ed0', start_time=1745275245823, status='FINISHED', user_id='caiosainvallio'>, inputs=<RunInputs: dataset_inputs=[]>>\n",
      "skillful-gnat-630\n"
     ]
    }
   ],
   "source": [
    "run = mlflow.last_active_run()\n",
    "\n",
    "print(run)\n",
    "print(run.info.run_name)"
   ]
  },
  {
   "cell_type": "code",
   "execution_count": 8,
   "metadata": {},
   "outputs": [
    {
     "data": {
      "text/plain": [
       "run_uuid: \"a944008e4b494bcd9252a440702c5ed0\"\n",
       "experiment_id: \"0\"\n",
       "run_name: \"skillful-gnat-630\"\n",
       "user_id: \"caiosainvallio\"\n",
       "status: FINISHED\n",
       "start_time: 1745275245823\n",
       "end_time: 1745275245828\n",
       "artifact_uri: \"file:///Users/caiosainvallio/projects/mlflow_new/mlruns/0/a944008e4b494bcd9252a440702c5ed0/artifacts\"\n",
       "lifecycle_stage: \"active\"\n",
       "run_id: \"a944008e4b494bcd9252a440702c5ed0\""
      ]
     },
     "execution_count": 8,
     "metadata": {},
     "output_type": "execute_result"
    }
   ],
   "source": [
    "run.info.to_proto()"
   ]
  },
  {
   "cell_type": "code",
   "execution_count": 9,
   "metadata": {},
   "outputs": [
    {
     "name": "stdout",
     "output_type": "stream",
     "text": [
      "WITHIN RUN CONTEXT\n",
      "\n",
      "OUTSIDE RUN CONTEXT\n"
     ]
    }
   ],
   "source": [
    "with mlflow.start_run(run_name=\"started-run\") as run:\n",
    "    print(\"WITHIN RUN CONTEXT\\n\")\n",
    "\n",
    "print(\"OUTSIDE RUN CONTEXT\")\n",
    "run1 = mlflow.active_run()\n",
    "\n",
    "run2 = mlflow.last_active_run()"
   ]
  },
  {
   "cell_type": "code",
   "execution_count": 10,
   "metadata": {},
   "outputs": [
    {
     "data": {
      "text/plain": [
       "True"
      ]
     },
     "execution_count": 10,
     "metadata": {},
     "output_type": "execute_result"
    }
   ],
   "source": [
    "run1 == None"
   ]
  },
  {
   "cell_type": "code",
   "execution_count": 11,
   "metadata": {},
   "outputs": [
    {
     "name": "stdout",
     "output_type": "stream",
     "text": [
      "run_uuid: \"5536cec03cfb494ba0088287ffeb25c6\"\n",
      "experiment_id: \"0\"\n",
      "run_name: \"started-run\"\n",
      "user_id: \"caiosainvallio\"\n",
      "status: FINISHED\n",
      "start_time: 1745275401596\n",
      "end_time: 1745275401602\n",
      "artifact_uri: \"file:///Users/caiosainvallio/projects/mlflow_new/mlruns/0/5536cec03cfb494ba0088287ffeb25c6/artifacts\"\n",
      "lifecycle_stage: \"active\"\n",
      "run_id: \"5536cec03cfb494ba0088287ffeb25c6\"\n",
      "\n",
      "Run Status:  FINISHED\n"
     ]
    }
   ],
   "source": [
    "# This will print data since there was an active run in the current python process.\n",
    "print(run2.info.to_proto())\n",
    "print(\"Run Status: \",run2.info.status)"
   ]
  }
 ],
 "metadata": {
  "kernelspec": {
   "display_name": ".venv",
   "language": "python",
   "name": "python3"
  },
  "language_info": {
   "codemirror_mode": {
    "name": "ipython",
    "version": 3
   },
   "file_extension": ".py",
   "mimetype": "text/x-python",
   "name": "python",
   "nbconvert_exporter": "python",
   "pygments_lexer": "ipython3",
   "version": "3.13.0"
  }
 },
 "nbformat": 4,
 "nbformat_minor": 2
}
