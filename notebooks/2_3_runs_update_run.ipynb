{
 "cells": [
  {
   "cell_type": "code",
   "execution_count": 1,
   "metadata": {},
   "outputs": [
    {
     "data": {
      "text/plain": [
       "'2.21.3'"
      ]
     },
     "execution_count": 1,
     "metadata": {},
     "output_type": "execute_result"
    }
   ],
   "source": [
    "import mlflow\n",
    "\n",
    "mlflow.__version__"
   ]
  },
  {
   "cell_type": "code",
   "execution_count": 2,
   "metadata": {},
   "outputs": [],
   "source": [
    "from src.utils.folder_operations import get_project_root\n",
    "\n",
    "# set mlflow tracking uri\n",
    "mlflow.set_tracking_uri(\n",
    "    # (get_project_root() / 'mlflow_new/mlruns').as_uri()\n",
    "    \"http://localhost:3000\"\n",
    ")"
   ]
  },
  {
   "cell_type": "code",
   "execution_count": 3,
   "metadata": {},
   "outputs": [
    {
     "name": "stdout",
     "output_type": "stream",
     "text": [
      "🏃 View run judicious-moth-29 at: http://localhost:3000/#/experiments/0/runs/91bce0f19e2b41d49e8af3ae8cb962d9\n",
      "🧪 View experiment at: http://localhost:3000/#/experiments/0\n"
     ]
    },
    {
     "data": {
      "text/plain": [
       "{'mlflow.user': 'caiosainvallio',\n",
       " 'mlflow.source.name': '/Users/caiosainvallio/projects/mlflow_new/.venv/lib/python3.13/site-packages/ipykernel_launcher.py',\n",
       " 'mlflow.source.type': 'LOCAL',\n",
       " 'mlflow.runName': 'judicious-moth-29',\n",
       " 'my-tag': 'tag-value'}"
      ]
     },
     "execution_count": 3,
     "metadata": {},
     "output_type": "execute_result"
    }
   ],
   "source": [
    "with mlflow.start_run() as run:\n",
    "    mlflow.set_tag(\"my-tag\", \"tag-value\")\n",
    "\n",
    "run = mlflow.last_active_run()\n",
    "run.data.tags"
   ]
  },
  {
   "cell_type": "markdown",
   "metadata": {},
   "source": [
    "# set_tag"
   ]
  },
  {
   "cell_type": "code",
   "execution_count": 4,
   "metadata": {},
   "outputs": [
    {
     "name": "stdout",
     "output_type": "stream",
     "text": [
      "🏃 View run judicious-moth-29 at: http://localhost:3000/#/experiments/0/runs/91bce0f19e2b41d49e8af3ae8cb962d9\n",
      "🧪 View experiment at: http://localhost:3000/#/experiments/0\n"
     ]
    },
    {
     "data": {
      "text/plain": [
       "{'mlflow.user': 'caiosainvallio',\n",
       " 'mlflow.source.name': '/Users/caiosainvallio/projects/mlflow_new/.venv/lib/python3.13/site-packages/ipykernel_launcher.py',\n",
       " 'mlflow.source.type': 'LOCAL',\n",
       " 'mlflow.runName': 'judicious-moth-29',\n",
       " 'my-tag': 'tag-value UPDATED'}"
      ]
     },
     "execution_count": 4,
     "metadata": {},
     "output_type": "execute_result"
    }
   ],
   "source": [
    "# Resume the previous run and update the tag\n",
    "with mlflow.start_run(run_id=run.info.run_id) as run:\n",
    "    mlflow.set_tag(\"my-tag\", \"tag-value UPDATED\")\n",
    "\n",
    "run = mlflow.last_active_run()\n",
    "run.data.tags"
   ]
  },
  {
   "cell_type": "markdown",
   "metadata": {},
   "source": [
    "# set_tags"
   ]
  },
  {
   "cell_type": "code",
   "execution_count": 5,
   "metadata": {},
   "outputs": [
    {
     "name": "stdout",
     "output_type": "stream",
     "text": [
      "🏃 View run judicious-moth-29 at: http://localhost:3000/#/experiments/0/runs/91bce0f19e2b41d49e8af3ae8cb962d9\n",
      "🧪 View experiment at: http://localhost:3000/#/experiments/0\n"
     ]
    },
    {
     "data": {
      "text/plain": [
       "{'mlflow.user': 'caiosainvallio',\n",
       " 'mlflow.source.name': '/Users/caiosainvallio/projects/mlflow_new/.venv/lib/python3.13/site-packages/ipykernel_launcher.py',\n",
       " 'mlflow.source.type': 'LOCAL',\n",
       " 'mlflow.runName': 'judicious-moth-29',\n",
       " 'my-tag': 'tag-value UPDATED AGAIN',\n",
       " 'my-tag2': 'tag-value2'}"
      ]
     },
     "execution_count": 5,
     "metadata": {},
     "output_type": "execute_result"
    }
   ],
   "source": [
    "# Resume the previous run and update the tag\n",
    "with mlflow.start_run(run.info.run_id) as run:\n",
    "    mlflow.set_tags({\n",
    "        \"my-tag\": \"tag-value UPDATED AGAIN\",\n",
    "        \"my-tag2\": \"tag-value2\"\n",
    "    })\n",
    "\n",
    "run = mlflow.last_active_run()\n",
    "run.data.tags"
   ]
  },
  {
   "cell_type": "markdown",
   "metadata": {},
   "source": [
    "# using client"
   ]
  },
  {
   "cell_type": "code",
   "execution_count": 6,
   "metadata": {},
   "outputs": [
    {
     "data": {
      "text/plain": [
       "{'mlflow.user': 'caiosainvallio',\n",
       " 'mlflow.source.name': '/Users/caiosainvallio/projects/mlflow_new/.venv/lib/python3.13/site-packages/ipykernel_launcher.py',\n",
       " 'mlflow.source.type': 'LOCAL',\n",
       " 'mlflow.runName': 'judicious-moth-29',\n",
       " 'my-tag': 'tag-value UPDATED USING CLIENT',\n",
       " 'my-tag2': 'tag-value2',\n",
       " 'client-tag': 'client-tag-value'}"
      ]
     },
     "execution_count": 6,
     "metadata": {},
     "output_type": "execute_result"
    }
   ],
   "source": [
    "# get the mlflow client\n",
    "client = mlflow.MlflowClient()\n",
    "\n",
    "# Set a tag using the client\n",
    "client.set_tag(run.info.run_id, \"my-tag\", \"tag-value UPDATED USING CLIENT\")\n",
    "client.set_tag(run.info.run_id, \"client-tag\", \"client-tag-value\")\n",
    "\n",
    "run = mlflow.last_active_run()\n",
    "run.data.tags"
   ]
  },
  {
   "cell_type": "code",
   "execution_count": 7,
   "metadata": {},
   "outputs": [
    {
     "data": {
      "text/plain": [
       "{'mlflow.user': 'caiosainvallio',\n",
       " 'mlflow.source.name': '/Users/caiosainvallio/projects/mlflow_new/.venv/lib/python3.13/site-packages/ipykernel_launcher.py',\n",
       " 'mlflow.source.type': 'LOCAL',\n",
       " 'mlflow.runName': 'judicious-moth-29',\n",
       " 'my-tag': 'tag-value UPDATED USING CLIENT',\n",
       " 'my-tag2': 'tag-value2',\n",
       " 'client-tag': 'client-tag-value',\n",
       " 'mlflow.note.content': 'This is a description provided using the client.'}"
      ]
     },
     "execution_count": 7,
     "metadata": {},
     "output_type": "execute_result"
    }
   ],
   "source": [
    "client = mlflow.MlflowClient()\n",
    "\n",
    "# Set a tag using the client\n",
    "client.set_tag(run.info.run_id, \"my-tag\", \"tag-value UPDATED USING CLIENT\")\n",
    "client.set_tag(run.info.run_id, \"mlflow.note.content\", \"This is a description provided using the client.\")\n",
    "\n",
    "run = mlflow.last_active_run()\n",
    "run.data.tags"
   ]
  },
  {
   "cell_type": "code",
   "execution_count": 8,
   "metadata": {},
   "outputs": [
    {
     "name": "stdout",
     "output_type": "stream",
     "text": [
      "🏃 View run judicious-moth-29 at: http://localhost:3000/#/experiments/0/runs/91bce0f19e2b41d49e8af3ae8cb962d9\n",
      "🧪 View experiment at: http://localhost:3000/#/experiments/0\n"
     ]
    }
   ],
   "source": [
    "client.set_terminated(run.info.run_id, status=\"FINISHED\")"
   ]
  }
 ],
 "metadata": {
  "kernelspec": {
   "display_name": ".venv",
   "language": "python",
   "name": "python3"
  },
  "language_info": {
   "codemirror_mode": {
    "name": "ipython",
    "version": 3
   },
   "file_extension": ".py",
   "mimetype": "text/x-python",
   "name": "python",
   "nbconvert_exporter": "python",
   "pygments_lexer": "ipython3",
   "version": "3.13.0"
  }
 },
 "nbformat": 4,
 "nbformat_minor": 2
}
