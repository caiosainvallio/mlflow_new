{
 "cells": [
  {
   "cell_type": "code",
   "execution_count": 1,
   "metadata": {},
   "outputs": [
    {
     "data": {
      "text/plain": [
       "'2.21.3'"
      ]
     },
     "execution_count": 1,
     "metadata": {},
     "output_type": "execute_result"
    }
   ],
   "source": [
    "import mlflow\n",
    "\n",
    "mlflow.__version__"
   ]
  },
  {
   "cell_type": "code",
   "execution_count": 2,
   "metadata": {},
   "outputs": [],
   "source": [
    "from src.utils.folder_operations import get_project_root\n",
    "\n",
    "# set mlflow tracking uri\n",
    "mlflow.set_tracking_uri(\n",
    "    # (get_project_root() / 'mlflow_new/mlruns').as_uri()\n",
    "    \"http://localhost:3000\"\n",
    ")"
   ]
  },
  {
   "cell_type": "code",
   "execution_count": 3,
   "metadata": {},
   "outputs": [
    {
     "name": "stdout",
     "output_type": "stream",
     "text": [
      "Parent run_id: 0f04c2d0415342d28a427d647ea323e6\n",
      "Child run_id: b6cf579d0734488bbc80d23d97bd611b\n",
      "Grandchild run_id: b42ad895200941f7a0849ac6bb2868a3\n",
      "🏃 View run grandchild at: http://localhost:3000/#/experiments/0/runs/b42ad895200941f7a0849ac6bb2868a3\n",
      "🧪 View experiment at: http://localhost:3000/#/experiments/0\n",
      "🏃 View run child at: http://localhost:3000/#/experiments/0/runs/b6cf579d0734488bbc80d23d97bd611b\n",
      "🧪 View experiment at: http://localhost:3000/#/experiments/0\n",
      "🏃 View run parent at: http://localhost:3000/#/experiments/0/runs/0f04c2d0415342d28a427d647ea323e6\n",
      "🧪 View experiment at: http://localhost:3000/#/experiments/0\n"
     ]
    }
   ],
   "source": [
    "# Before it was necessary to create a nested structure of runs to represent a parent-child relationship between runs.\n",
    "with mlflow.start_run(run_name=\"parent\") as parent_run:\n",
    "    print(\"Parent run_id:\", parent_run.info.run_id)\n",
    "    mlflow.log_param(\"parent_param1\", 2)\n",
    "\n",
    "    with mlflow.start_run(run_name=\"child\", nested=True) as child_run:\n",
    "        print(\"Child run_id:\", child_run.info.run_id)\n",
    "        mlflow.log_param(\"param1\", 1)\n",
    "        mlflow.log_metric(\"metric1\", 2.0)\n",
    "\n",
    "        with mlflow.start_run(run_name=\"grandchild\", nested=True) as grandchild_run:\n",
    "            print(\"Grandchild run_id:\", grandchild_run.info.run_id)\n",
    "            mlflow.log_param(\"param1\", 3)\n",
    "            mlflow.log_metric(\"metric1\", 4.0)"
   ]
  },
  {
   "cell_type": "markdown",
   "metadata": {},
   "source": [
    "# Nested runs using parent run"
   ]
  },
  {
   "cell_type": "code",
   "execution_count": 4,
   "metadata": {},
   "outputs": [
    {
     "name": "stdout",
     "output_type": "stream",
     "text": [
      "Parent run_id: 875eaf45ecd64089896142d66000c2d1\n",
      "🏃 View run parent at: http://localhost:3000/#/experiments/0/runs/875eaf45ecd64089896142d66000c2d1\n",
      "🧪 View experiment at: http://localhost:3000/#/experiments/0\n",
      "Child run_id: 4cb09b4060314697aec4a4962e5fc482\n",
      "🏃 View run child at: http://localhost:3000/#/experiments/0/runs/4cb09b4060314697aec4a4962e5fc482\n",
      "🧪 View experiment at: http://localhost:3000/#/experiments/0\n",
      "Grandchild run_id: 0ce911874a0b41dc97ce1aa4cf6edfa2\n",
      "🏃 View run grandchild at: http://localhost:3000/#/experiments/0/runs/0ce911874a0b41dc97ce1aa4cf6edfa2\n",
      "🧪 View experiment at: http://localhost:3000/#/experiments/0\n"
     ]
    }
   ],
   "source": [
    "# Now, it is possible to create a nested structure of runs using parent_run_id parameter.\n",
    "with mlflow.start_run(run_name=\"parent\") as parent_run:\n",
    "    print(\"Parent run_id:\", parent_run.info.run_id)\n",
    "    mlflow.log_param(\"parent_param1\", 2)\n",
    "\n",
    "with mlflow.start_run(run_name=\"child\", parent_run_id=parent_run.info.run_id) as child_run:\n",
    "    print(\"Child run_id:\", child_run.info.run_id)\n",
    "    mlflow.log_param(\"param1\", 1)\n",
    "    mlflow.log_metric(\"metric1\", 2.0)\n",
    "\n",
    "with mlflow.start_run(run_name=\"grandchild\", parent_run_id=child_run.info.run_id) as grandchild_run:\n",
    "    print(\"Grandchild run_id:\", grandchild_run.info.run_id)\n",
    "    mlflow.log_param(\"param1\", 3)\n",
    "    mlflow.log_metric(\"metric1\", 4.0)"
   ]
  },
  {
   "cell_type": "code",
   "execution_count": null,
   "metadata": {},
   "outputs": [],
   "source": []
  }
 ],
 "metadata": {
  "kernelspec": {
   "display_name": ".venv",
   "language": "python",
   "name": "python3"
  },
  "language_info": {
   "codemirror_mode": {
    "name": "ipython",
    "version": 3
   },
   "file_extension": ".py",
   "mimetype": "text/x-python",
   "name": "python",
   "nbconvert_exporter": "python",
   "pygments_lexer": "ipython3",
   "version": "3.13.0"
  }
 },
 "nbformat": 4,
 "nbformat_minor": 2
}
