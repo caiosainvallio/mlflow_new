{
 "cells": [
  {
   "cell_type": "code",
   "execution_count": 1,
   "metadata": {},
   "outputs": [
    {
     "data": {
      "text/plain": [
       "'2.21.3'"
      ]
     },
     "execution_count": 1,
     "metadata": {},
     "output_type": "execute_result"
    }
   ],
   "source": [
    "import mlflow\n",
    "\n",
    "mlflow.__version__"
   ]
  },
  {
   "cell_type": "code",
   "execution_count": 2,
   "metadata": {},
   "outputs": [],
   "source": [
    "from src.utils.folder_operations import get_project_root\n",
    "\n",
    "# set mlflow tracking uri\n",
    "mlflow.set_tracking_uri(\n",
    "    (get_project_root() / 'mlflow_new/mlruns').as_uri()\n",
    ")"
   ]
  },
  {
   "cell_type": "code",
   "execution_count": 3,
   "metadata": {},
   "outputs": [
    {
     "name": "stdout",
     "output_type": "stream",
     "text": [
      "Parent run_id: e4a2638a8624474ea3e29c6502ef34f4\n",
      "Child run_id: c06314215ba74943bfa9ab9d0bb089c6\n",
      "Grandchild run_id: 57a48d06d5a14456b64ff5f78f1669a1\n"
     ]
    }
   ],
   "source": [
    "# Before it was necessary to create a nested structure of runs to represent a parent-child relationship between runs.\n",
    "with mlflow.start_run(run_name=\"parent\") as parent_run:\n",
    "    print(\"Parent run_id:\", parent_run.info.run_id)\n",
    "    mlflow.log_param(\"parent_param1\", 2)\n",
    "\n",
    "    with mlflow.start_run(run_name=\"child\", nested=True) as child_run:\n",
    "        print(\"Child run_id:\", child_run.info.run_id)\n",
    "        mlflow.log_param(\"param1\", 1)\n",
    "        mlflow.log_metric(\"metric1\", 2.0)\n",
    "\n",
    "        with mlflow.start_run(run_name=\"grandchild\", nested=True) as grandchild_run:\n",
    "            print(\"Grandchild run_id:\", grandchild_run.info.run_id)\n",
    "            mlflow.log_param(\"param1\", 3)\n",
    "            mlflow.log_metric(\"metric1\", 4.0)"
   ]
  },
  {
   "cell_type": "markdown",
   "metadata": {},
   "source": [
    "# Nested runs using parent run"
   ]
  },
  {
   "cell_type": "code",
   "execution_count": 4,
   "metadata": {},
   "outputs": [
    {
     "name": "stdout",
     "output_type": "stream",
     "text": [
      "Parent run_id: 3840ea068d9d4d44b83391b14568990b\n",
      "Child run_id: 6a875cf1fc794bd89916e890f0bbf6a0\n",
      "Grandchild run_id: 38179d5ca3b141ff87de53ad88c90d89\n"
     ]
    }
   ],
   "source": [
    "# Now, it is possible to create a nested structure of runs using parent_run_id parameter.\n",
    "with mlflow.start_run(run_name=\"parent\") as parent_run:\n",
    "    print(\"Parent run_id:\", parent_run.info.run_id)\n",
    "    mlflow.log_param(\"parent_param1\", 2)\n",
    "\n",
    "with mlflow.start_run(run_name=\"child\", parent_run_id=parent_run.info.run_id) as child_run:\n",
    "    print(\"Child run_id:\", child_run.info.run_id)\n",
    "    mlflow.log_param(\"param1\", 1)\n",
    "    mlflow.log_metric(\"metric1\", 2.0)\n",
    "\n",
    "with mlflow.start_run(run_name=\"grandchild\", parent_run_id=child_run.info.run_id) as grandchild_run:\n",
    "    print(\"Grandchild run_id:\", grandchild_run.info.run_id)\n",
    "    mlflow.log_param(\"param1\", 3)\n",
    "    mlflow.log_metric(\"metric1\", 4.0)"
   ]
  },
  {
   "cell_type": "code",
   "execution_count": null,
   "metadata": {},
   "outputs": [],
   "source": []
  }
 ],
 "metadata": {
  "kernelspec": {
   "display_name": ".venv",
   "language": "python",
   "name": "python3"
  },
  "language_info": {
   "codemirror_mode": {
    "name": "ipython",
    "version": 3
   },
   "file_extension": ".py",
   "mimetype": "text/x-python",
   "name": "python",
   "nbconvert_exporter": "python",
   "pygments_lexer": "ipython3",
   "version": "3.13.0"
  }
 },
 "nbformat": 4,
 "nbformat_minor": 2
}
