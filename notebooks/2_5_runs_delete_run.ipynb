{
 "cells": [
  {
   "cell_type": "code",
   "execution_count": 1,
   "metadata": {},
   "outputs": [
    {
     "data": {
      "text/plain": [
       "'2.21.3'"
      ]
     },
     "execution_count": 1,
     "metadata": {},
     "output_type": "execute_result"
    }
   ],
   "source": [
    "import mlflow\n",
    "\n",
    "mlflow.__version__"
   ]
  },
  {
   "cell_type": "code",
   "execution_count": 2,
   "metadata": {},
   "outputs": [],
   "source": [
    "from src.utils.folder_operations import get_project_root\n",
    "\n",
    "# set mlflow tracking uri\n",
    "mlflow.set_tracking_uri(\n",
    "    (get_project_root() / 'mlflow_new/mlruns').as_uri()\n",
    ")"
   ]
  },
  {
   "cell_type": "markdown",
   "metadata": {},
   "source": [
    "# delete_run"
   ]
  },
  {
   "cell_type": "code",
   "execution_count": 3,
   "metadata": {},
   "outputs": [
    {
     "name": "stdout",
     "output_type": "stream",
     "text": [
      "run_id: d9d2fde3874a485394d27c86883c1931; lifecycle_stage: deleted\n"
     ]
    }
   ],
   "source": [
    "# starting new run\n",
    "with mlflow.start_run() as run:\n",
    "    mlflow.log_param(\"a\", 1)\n",
    "\n",
    "run_id = run.info.run_id\n",
    "mlflow.delete_run(run_id)\n",
    "\n",
    "# check if the run is deleted\n",
    "lifecycle_stage = mlflow.get_run(run_id).info.lifecycle_stage\n",
    "print(f\"run_id: {run_id}; lifecycle_stage: {lifecycle_stage}\")  "
   ]
  },
  {
   "cell_type": "markdown",
   "metadata": {},
   "source": [
    "# using client"
   ]
  },
  {
   "cell_type": "code",
   "execution_count": 4,
   "metadata": {},
   "outputs": [
    {
     "name": "stdout",
     "output_type": "stream",
     "text": [
      "Before deleting run\n",
      "run_id: 882c1d36357f48dd85804fb636908c62; lifecycle_stage: active\n",
      "After deleting run\n",
      "run_id: 882c1d36357f48dd85804fb636908c62; lifecycle_stage: deleted\n"
     ]
    }
   ],
   "source": [
    "client = mlflow.MlflowClient()\n",
    "\n",
    "# starting new run\n",
    "with mlflow.start_run() as run:\n",
    "    mlflow.log_param(\"a\", 1)\n",
    "    print(\"Before deleting run\")\n",
    "    print(f\"run_id: {run.info.run_id}; lifecycle_stage: {run.info.lifecycle_stage}\")\n",
    "\n",
    "run_id = run.info.run_id\n",
    "client.delete_run(run_id)\n",
    "print(\"After deleting run\")\n",
    "# check if the run is deleted\n",
    "lifecycle_stage = client.get_run(run_id).info.lifecycle_stage\n",
    "print(f\"run_id: {run_id}; lifecycle_stage: {lifecycle_stage}\")"
   ]
  },
  {
   "cell_type": "markdown",
   "metadata": {},
   "source": [
    "# restore_run"
   ]
  },
  {
   "cell_type": "code",
   "execution_count": 5,
   "metadata": {},
   "outputs": [
    {
     "name": "stdout",
     "output_type": "stream",
     "text": [
      "run_id: c5ba875a3a3d436682189eb5633da944; lifecycle_stage: active\n",
      "run_id: c5ba875a3a3d436682189eb5633da944; lifecycle_stage: deleted\n",
      "run_id: c5ba875a3a3d436682189eb5633da944; lifecycle_stage: active\n"
     ]
    }
   ],
   "source": [
    "client = mlflow.MlflowClient()\n",
    "\n",
    "# starting new run\n",
    "run = client.create_run(experiment_id=\"0\")\n",
    "run_id = run.info.run_id\n",
    "print(f\"run_id: {run_id}; lifecycle_stage: {run.info.lifecycle_stage}\")\n",
    "\n",
    "# delete the run\n",
    "client.delete_run(run_id)\n",
    "# check if the run is deleted\n",
    "del_run = client.get_run(run_id)\n",
    "print(f\"run_id: {run_id}; lifecycle_stage: {del_run.info.lifecycle_stage}\")\n",
    "\n",
    "# restore the run\n",
    "client.restore_run(run_id)\n",
    "# check if the run is restored\n",
    "rest_run = client.get_run(run_id)\n",
    "print(f\"run_id: {run_id}; lifecycle_stage: {rest_run.info.lifecycle_stage}\")"
   ]
  },
  {
   "cell_type": "code",
   "execution_count": 6,
   "metadata": {},
   "outputs": [],
   "source": [
    "client.set_terminated(run.info.run_id, status=\"FINISHED\")"
   ]
  }
 ],
 "metadata": {
  "kernelspec": {
   "display_name": ".venv",
   "language": "python",
   "name": "python3"
  },
  "language_info": {
   "codemirror_mode": {
    "name": "ipython",
    "version": 3
   },
   "file_extension": ".py",
   "mimetype": "text/x-python",
   "name": "python",
   "nbconvert_exporter": "python",
   "pygments_lexer": "ipython3",
   "version": "3.13.0"
  }
 },
 "nbformat": 4,
 "nbformat_minor": 2
}
