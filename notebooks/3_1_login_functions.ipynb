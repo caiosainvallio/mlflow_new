{
 "cells": [
  {
   "cell_type": "code",
   "execution_count": 1,
   "metadata": {},
   "outputs": [
    {
     "data": {
      "text/plain": [
       "'2.21.3'"
      ]
     },
     "execution_count": 1,
     "metadata": {},
     "output_type": "execute_result"
    }
   ],
   "source": [
    "import mlflow\n",
    "\n",
    "mlflow.__version__"
   ]
  },
  {
   "cell_type": "code",
   "execution_count": 2,
   "metadata": {},
   "outputs": [],
   "source": [
    "from src.utils.folder_operations import get_project_root\n",
    "\n",
    "# set mlflow tracking uri\n",
    "mlflow.set_tracking_uri(\n",
    "    # (get_project_root() / 'mlflow_new/mlruns').as_uri()\n",
    "    \"http://localhost:3000\"\n",
    ")"
   ]
  },
  {
   "cell_type": "markdown",
   "metadata": {},
   "source": [
    "# log_metric"
   ]
  },
  {
   "cell_type": "code",
   "execution_count": 3,
   "metadata": {},
   "outputs": [
    {
     "name": "stdout",
     "output_type": "stream",
     "text": [
      "🏃 View run logging_metrics at: http://localhost:3000/#/experiments/0/runs/eb44906f104045e7824399e6e084883a\n",
      "🧪 View experiment at: http://localhost:3000/#/experiments/0\n",
      "run_id: eb44906f104045e7824399e6e084883a\n"
     ]
    },
    {
     "data": {
      "text/plain": [
       "{'metrics': {'m1': 2.0},\n",
       " 'params': {},\n",
       " 'tags': {'mlflow.user': 'caiosainvallio',\n",
       "  'mlflow.source.name': '/Users/caiosainvallio/projects/mlflow_new/.venv/lib/python3.13/site-packages/ipykernel_launcher.py',\n",
       "  'mlflow.source.type': 'LOCAL',\n",
       "  'mlflow.runName': 'logging_metrics'}}"
      ]
     },
     "execution_count": 3,
     "metadata": {},
     "output_type": "execute_result"
    }
   ],
   "source": [
    "# starting a run.\n",
    "\n",
    "with mlflow.start_run(run_name=\"logging_metrics\") as run:\n",
    "    mlflow.log_metric(\"m1\", 2.0)\n",
    "\n",
    "# getting the run id and data\n",
    "run = mlflow.get_run(run.info.run_id)\n",
    "print(\"run_id:\", run.info.run_id)\n",
    "run.data.to_dictionary()"
   ]
  },
  {
   "cell_type": "markdown",
   "metadata": {},
   "source": [
    "# log_metrics"
   ]
  },
  {
   "cell_type": "code",
   "execution_count": 4,
   "metadata": {},
   "outputs": [
    {
     "name": "stdout",
     "output_type": "stream",
     "text": [
      "🏃 View run logging_metrics at: http://localhost:3000/#/experiments/0/runs/97d5b5bbc01a484abec1664638d8f868\n",
      "🧪 View experiment at: http://localhost:3000/#/experiments/0\n",
      "run_id: 97d5b5bbc01a484abec1664638d8f868\n"
     ]
    },
    {
     "data": {
      "text/plain": [
       "{'metrics': {'m1': 2.0, 'm2': 3.0, 'm3': 4.0},\n",
       " 'params': {},\n",
       " 'tags': {'mlflow.user': 'caiosainvallio',\n",
       "  'mlflow.source.name': '/Users/caiosainvallio/projects/mlflow_new/.venv/lib/python3.13/site-packages/ipykernel_launcher.py',\n",
       "  'mlflow.source.type': 'LOCAL',\n",
       "  'mlflow.runName': 'logging_metrics'}}"
      ]
     },
     "execution_count": 4,
     "metadata": {},
     "output_type": "execute_result"
    }
   ],
   "source": [
    "#starting a run\n",
    "\n",
    "metrics = {\n",
    "    \"m1\": 2.0,\n",
    "    \"m2\": 3.0,\n",
    "    \"m3\": 4.0\n",
    "}\n",
    "with mlflow.start_run(run_name=\"logging_metrics\") as run:\n",
    "    mlflow.log_metrics(metrics)\n",
    "\n",
    "# getting the run id and data\n",
    "run = mlflow.get_run(run.info.run_id)\n",
    "print(\"run_id:\", run.info.run_id)\n",
    "run.data.to_dictionary()"
   ]
  },
  {
   "cell_type": "markdown",
   "metadata": {},
   "source": [
    "# Log metric providing a run id"
   ]
  },
  {
   "cell_type": "code",
   "execution_count": 5,
   "metadata": {},
   "outputs": [
    {
     "name": "stdout",
     "output_type": "stream",
     "text": [
      "🏃 View run logging_metrics at: http://localhost:3000/#/experiments/0/runs/0659c619d50447b3b460fa4866314e14\n",
      "🧪 View experiment at: http://localhost:3000/#/experiments/0\n"
     ]
    }
   ],
   "source": [
    "client = mlflow.MlflowClient()\n",
    "\n",
    "#create a run\n",
    "run = client.create_run(experiment_id=\"0\",run_name=\"logging_metrics\")\n",
    "run_id = run.info.run_id\n",
    "\n",
    "# log a metric\n",
    "mlflow.log_metric(key=\"m1\", value=1.0, run_id=run_id)\n",
    "\n",
    "# log multiple metrics\n",
    "metrics = {\n",
    "    \"m2\": 2.0,\n",
    "    \"m3\": 3.0\n",
    "}\n",
    "mlflow.log_metrics(metrics, run_id=run_id)\n",
    "\n",
    "\n",
    "# end the run\n",
    "client.set_terminated(run_id, status=\"FINISHED\")"
   ]
  },
  {
   "cell_type": "code",
   "execution_count": 6,
   "metadata": {},
   "outputs": [
    {
     "name": "stdout",
     "output_type": "stream",
     "text": [
      "run_id: 0659c619d50447b3b460fa4866314e14\n",
      "status: FINISHED\n"
     ]
    },
    {
     "data": {
      "text/plain": [
       "{'metrics': {'m1': 1.0, 'm2': 2.0, 'm3': 3.0},\n",
       " 'params': {},\n",
       " 'tags': {'mlflow.runName': 'logging_metrics'}}"
      ]
     },
     "execution_count": 6,
     "metadata": {},
     "output_type": "execute_result"
    }
   ],
   "source": [
    "# check the run data\n",
    "run = mlflow.get_run(run_id)\n",
    "\n",
    "print(\"run_id: {}\".format(run.info.run_id))\n",
    "print(\"status: {}\".format(run.info.status))\n",
    "run.data.to_dictionary()"
   ]
  },
  {
   "cell_type": "markdown",
   "metadata": {},
   "source": [
    "# log_param"
   ]
  },
  {
   "cell_type": "code",
   "execution_count": 7,
   "metadata": {},
   "outputs": [
    {
     "name": "stdout",
     "output_type": "stream",
     "text": [
      "🏃 View run logging_parameters at: http://localhost:3000/#/experiments/0/runs/f0ad74e544d744818fea6baf63709af9\n",
      "🧪 View experiment at: http://localhost:3000/#/experiments/0\n",
      "run_id: f0ad74e544d744818fea6baf63709af9\n"
     ]
    },
    {
     "data": {
      "text/plain": [
       "{'metrics': {},\n",
       " 'params': {'p1': '1'},\n",
       " 'tags': {'mlflow.user': 'caiosainvallio',\n",
       "  'mlflow.source.name': '/Users/caiosainvallio/projects/mlflow_new/.venv/lib/python3.13/site-packages/ipykernel_launcher.py',\n",
       "  'mlflow.source.type': 'LOCAL',\n",
       "  'mlflow.runName': 'logging_parameters'}}"
      ]
     },
     "execution_count": 7,
     "metadata": {},
     "output_type": "execute_result"
    }
   ],
   "source": [
    "# starting a run.\n",
    "with mlflow.start_run(run_name=\"logging_parameters\") as run:\n",
    "    mlflow.log_param(\"p1\", 1)\n",
    "\n",
    "# getting the run id and data\n",
    "run = mlflow.get_run(run.info.run_id)\n",
    "print(\"run_id:\", run.info.run_id)\n",
    "run.data.to_dictionary()"
   ]
  },
  {
   "cell_type": "markdown",
   "metadata": {},
   "source": [
    "# log_params"
   ]
  },
  {
   "cell_type": "code",
   "execution_count": 8,
   "metadata": {},
   "outputs": [
    {
     "name": "stdout",
     "output_type": "stream",
     "text": [
      "🏃 View run logging_parameters at: http://localhost:3000/#/experiments/0/runs/0b1a46cad28c4bbe844dab33a399771d\n",
      "🧪 View experiment at: http://localhost:3000/#/experiments/0\n",
      "run_id: 0b1a46cad28c4bbe844dab33a399771d\n"
     ]
    },
    {
     "data": {
      "text/plain": [
       "{'metrics': {},\n",
       " 'params': {'p1': '1', 'p2': '2', 'p3': '3'},\n",
       " 'tags': {'mlflow.user': 'caiosainvallio',\n",
       "  'mlflow.source.name': '/Users/caiosainvallio/projects/mlflow_new/.venv/lib/python3.13/site-packages/ipykernel_launcher.py',\n",
       "  'mlflow.source.type': 'LOCAL',\n",
       "  'mlflow.runName': 'logging_parameters'}}"
      ]
     },
     "execution_count": 8,
     "metadata": {},
     "output_type": "execute_result"
    }
   ],
   "source": [
    "parameters = {\n",
    "    \"p1\": 1,\n",
    "    \"p2\": 2,\n",
    "    \"p3\": 3\n",
    "}\n",
    "with mlflow.start_run(run_name=\"logging_parameters\") as run:\n",
    "    mlflow.log_params(parameters)\n",
    "    \n",
    "# getting the run id and data\n",
    "run = mlflow.get_run(run.info.run_id)\n",
    "print(\"run_id:\", run.info.run_id)\n",
    "run.data.to_dictionary()"
   ]
  },
  {
   "cell_type": "markdown",
   "metadata": {},
   "source": [
    "# Log parameters providing run id"
   ]
  },
  {
   "cell_type": "code",
   "execution_count": 9,
   "metadata": {},
   "outputs": [
    {
     "name": "stdout",
     "output_type": "stream",
     "text": [
      "ERROR: log_param() got an unexpected keyword argument 'run_id'\n"
     ]
    }
   ],
   "source": [
    "client = mlflow.MlflowClient()\n",
    "\n",
    "#create a run\n",
    "run = client.create_run(experiment_id=\"0\", run_name=\"logging_parameters\")\n",
    "run_id = run.info.run_id\n",
    "\n",
    "# log a parameter\n",
    "# mlflow.log_param does not accept run_id as an argument\n",
    "try:\n",
    "    mlflow.log_param(key=\"p1\", value=\"some value\", run_id=run_id)\n",
    "except Exception as e:\n",
    "    print(\"ERROR:\", e)"
   ]
  },
  {
   "cell_type": "code",
   "execution_count": 10,
   "metadata": {},
   "outputs": [
    {
     "name": "stdout",
     "output_type": "stream",
     "text": [
      "run_id: fa3d3a2551144e819d805601a2badd59\n"
     ]
    },
    {
     "data": {
      "text/plain": [
       "{'metrics': {},\n",
       " 'params': {'p1': '1', 'p2': '2', 'p3': '3'},\n",
       " 'tags': {'mlflow.runName': 'logging_parameters'}}"
      ]
     },
     "execution_count": 10,
     "metadata": {},
     "output_type": "execute_result"
    }
   ],
   "source": [
    "# Unlike log_param, log_params accepts run_id as an argument\n",
    "mlflow.log_params(parameters, run_id=run_id)\n",
    "\n",
    "# Retrieve the run data\n",
    "run = mlflow.get_run(run_id)\n",
    "print(\"run_id:\", run.info.run_id)\n",
    "run.data.to_dictionary()"
   ]
  },
  {
   "cell_type": "code",
   "execution_count": 11,
   "metadata": {},
   "outputs": [
    {
     "name": "stdout",
     "output_type": "stream",
     "text": [
      "🏃 View run logging_parameters at: http://localhost:3000/#/experiments/0/runs/fa3d3a2551144e819d805601a2badd59\n",
      "🧪 View experiment at: http://localhost:3000/#/experiments/0\n"
     ]
    }
   ],
   "source": [
    "# end the run\n",
    "client.set_terminated(run_id, status=\"FINISHED\")"
   ]
  },
  {
   "cell_type": "code",
   "execution_count": 12,
   "metadata": {},
   "outputs": [
    {
     "name": "stdout",
     "output_type": "stream",
     "text": [
      "🏃 View run logging_parameters at: http://localhost:3000/#/experiments/0/runs/18b208f9e1664183a4f9f6aa6cc97f00\n",
      "🧪 View experiment at: http://localhost:3000/#/experiments/0\n"
     ]
    }
   ],
   "source": [
    "run = client.create_run(experiment_id=\"0\", run_name=\"logging_parameters\")\n",
    "run_id = run.info.run_id\n",
    "\n",
    "# using client to log a parameter providing the run_id\n",
    "client.log_param(run_id, \"p1\", \"some value\")\n",
    "\n",
    "# log multiple parameters\n",
    "parameters = {\n",
    "    \"p2\": 2.0,\n",
    "    \"p3\": \"param 3\"\n",
    "}\n",
    "mlflow.log_params(parameters, run_id=run_id)\n",
    "\n",
    "\n",
    "# end the run\n",
    "client.set_terminated(run_id, status=\"FINISHED\")"
   ]
  },
  {
   "cell_type": "code",
   "execution_count": 13,
   "metadata": {},
   "outputs": [
    {
     "name": "stdout",
     "output_type": "stream",
     "text": [
      "run_id: 18b208f9e1664183a4f9f6aa6cc97f00\n"
     ]
    },
    {
     "data": {
      "text/plain": [
       "{'metrics': {},\n",
       " 'params': {'p1': 'some value', 'p2': '2.0', 'p3': 'param 3'},\n",
       " 'tags': {'mlflow.runName': 'logging_parameters'}}"
      ]
     },
     "execution_count": 13,
     "metadata": {},
     "output_type": "execute_result"
    }
   ],
   "source": [
    "# getting the run id and data\n",
    "run = mlflow.get_run(run.info.run_id)\n",
    "print(\"run_id:\", run.info.run_id)\n",
    "run.data.to_dictionary()"
   ]
  },
  {
   "cell_type": "markdown",
   "metadata": {},
   "source": [
    "# log_artifact\n",
    "\n",
    "Log a single artifact"
   ]
  },
  {
   "cell_type": "code",
   "execution_count": 14,
   "metadata": {},
   "outputs": [],
   "source": [
    "from pathlib import Path \n",
    "\n",
    "path = Path(get_project_root() / 'mlflow_new/artifacts_example/predictions.csv')"
   ]
  },
  {
   "cell_type": "code",
   "execution_count": 19,
   "metadata": {},
   "outputs": [],
   "source": [
    "import os\n",
    "os.environ['AWS_ACCESS_KEY_ID'] = 'mlflow'\n",
    "os.environ['AWS_SECRET_ACCESS_KEY'] = 'mlflow123'\n",
    "os.environ['MLFLOW_S3_ENDPOINT_URL'] = 'http://localhost:9000'"
   ]
  },
  {
   "cell_type": "code",
   "execution_count": 20,
   "metadata": {},
   "outputs": [
    {
     "name": "stdout",
     "output_type": "stream",
     "text": [
      "🏃 View run logging_artifacts at: http://localhost:3000/#/experiments/0/runs/e830443eea1942cda10fc22a9a68b077\n",
      "🧪 View experiment at: http://localhost:3000/#/experiments/0\n"
     ]
    }
   ],
   "source": [
    "# starting a run.\n",
    "with mlflow.start_run(run_name=\"logging_artifacts\") as run:\n",
    "    mlflow.log_artifact(path)"
   ]
  },
  {
   "cell_type": "markdown",
   "metadata": {},
   "source": [
    "# log_artifacts\n",
    "\n",
    "Log multiple artifacts"
   ]
  },
  {
   "cell_type": "code",
   "execution_count": 42,
   "metadata": {},
   "outputs": [],
   "source": [
    "# starting a run\n",
    "with mlflow.start_run(run_name=\"logging_artifacts\") as run:\n",
    "    mlflow.log_artifacts(\"artifacts_example\")"
   ]
  },
  {
   "cell_type": "code",
   "execution_count": 43,
   "metadata": {},
   "outputs": [],
   "source": [
    "# starting a run and providing artifact_path\n",
    "with mlflow.start_run(run_name=\"logging_artifacts\") as run:\n",
    "    mlflow.log_artifacts(\"artifacts_example\", artifact_path=\"my_artifacts\")"
   ]
  },
  {
   "cell_type": "markdown",
   "metadata": {},
   "source": [
    "# log_dict"
   ]
  },
  {
   "cell_type": "code",
   "execution_count": 44,
   "metadata": {},
   "outputs": [],
   "source": [
    "# starting a run \n",
    "with mlflow.start_run(run_name=\"logging_artifacts\") as run:\n",
    "    dictionary = {\n",
    "        \"predictions.csv\": \"artifacts_example/predictions.csv\",\n",
    "        \"model.pkl\": \"artifacts_example/model.pkl\"\n",
    "    }\n",
    "\n",
    "    # Using json file\n",
    "    mlflow.log_dict(dictionary= dictionary, artifact_file=\"my_files.json\")\n",
    "\n",
    "    # Using yaml file\n",
    "    mlflow.log_dict(dictionary=dictionary, artifact_file=\"my_files.yaml\")"
   ]
  },
  {
   "cell_type": "markdown",
   "metadata": {},
   "source": [
    "# log_figure"
   ]
  },
  {
   "cell_type": "code",
   "execution_count": 45,
   "metadata": {},
   "outputs": [
    {
     "data": {
      "image/png": "[encoded data removed]",
      "text/plain": [
       "<Figure size 640x480 with 1 Axes>"
      ]
     },
     "metadata": {},
     "output_type": "display_data"
    }
   ],
   "source": [
    "import matplotlib.pyplot as plt\n",
    "\n",
    "fig, ax = plt.subplots()\n",
    "ax.plot([0, 1], [2, 3])\n",
    "\n",
    "\n",
    "with mlflow.start_run(run_name=\"logging_figure\") as run:\n",
    "    # logging a figure\n",
    "    mlflow.log_figure(fig, artifact_file=\"figures/figure.png\")"
   ]
  },
  {
   "cell_type": "markdown",
   "metadata": {},
   "source": [
    "# log_image"
   ]
  },
  {
   "cell_type": "code",
   "execution_count": 47,
   "metadata": {},
   "outputs": [
    {
     "data": {
      "image/png": "[encoded data removed]",
      "text/plain": [
       "<Figure size 640x480 with 1 Axes>"
      ]
     },
     "metadata": {},
     "output_type": "display_data"
    }
   ],
   "source": [
    "import numpy as np\n",
    "from matplotlib import pyplot as plt\n",
    "\n",
    "image = np.random.randint(0, 256, size=(100, 100, 3), dtype=np.uint8)\n",
    "\n",
    "plt.imshow(image, interpolation='nearest')\n",
    "plt.show()\n",
    "\n",
    "with mlflow.start_run(run_name=\"logging_image\") as run:\n",
    "    # logging an image\n",
    "    mlflow.log_image(image, artifact_file=\"images/image.png\")"
   ]
  },
  {
   "cell_type": "code",
   "execution_count": null,
   "metadata": {},
   "outputs": [],
   "source": []
  },
  {
   "cell_type": "code",
   "execution_count": null,
   "metadata": {},
   "outputs": [],
   "source": []
  },
  {
   "cell_type": "code",
   "execution_count": null,
   "metadata": {},
   "outputs": [],
   "source": []
  }
 ],
 "metadata": {
  "kernelspec": {
   "display_name": ".venv",
   "language": "python",
   "name": "python3"
  },
  "language_info": {
   "codemirror_mode": {
    "name": "ipython",
    "version": 3
   },
   "file_extension": ".py",
   "mimetype": "text/x-python",
   "name": "python",
   "nbconvert_exporter": "python",
   "pygments_lexer": "ipython3",
   "version": "3.13.0"
  }
 },
 "nbformat": 4,
 "nbformat_minor": 2
}
