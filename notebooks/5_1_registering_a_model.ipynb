{
 "cells": [
  {
   "cell_type": "code",
   "execution_count": 1,
   "metadata": {},
   "outputs": [
    {
     "data": {
      "text/plain": [
       "'2.21.3'"
      ]
     },
     "execution_count": 1,
     "metadata": {},
     "output_type": "execute_result"
    }
   ],
   "source": [
    "import mlflow\n",
    "\n",
    "mlflow.__version__"
   ]
  },
  {
   "cell_type": "code",
   "execution_count": 2,
   "metadata": {},
   "outputs": [],
   "source": [
    "from src.utils.folder_operations import get_project_root\n",
    "\n",
    "# set mlflow tracking uri\n",
    "mlflow.set_tracking_uri(\n",
    "    (get_project_root() / 'mlflow_new/mlruns').as_uri()\n",
    ")"
   ]
  },
  {
   "cell_type": "markdown",
   "metadata": {},
   "source": [
    "# MLflow Model Registry\n",
    "\n",
    "The MLflow Model Registry component is a centralized model store, set of APIs, and UI, to collaboratively manage the full lifecycle of an MLflow Model. It provides model lineage (which MLflow experiment and run produced the model), model versioning, model aliasing, model tagging, and annotations.\n",
    "\n",
    "## Concepts\n",
    "\n",
    "- Model\n",
    "- Registered Model\n",
    "- Model Version\n",
    "- Model Alias\n",
    "- Tags\n",
    "- Annotations and descriptions\n",
    "\n",
    "# Register a Model via UI"
   ]
  },
  {
   "cell_type": "code",
   "execution_count": 3,
   "metadata": {},
   "outputs": [],
   "source": [
    "from sklearn.ensemble import RandomForestClassifier"
   ]
  },
  {
   "cell_type": "code",
   "execution_count": 4,
   "metadata": {},
   "outputs": [],
   "source": [
    "client = mlflow.MlflowClient()"
   ]
  },
  {
   "cell_type": "code",
   "execution_count": 6,
   "metadata": {},
   "outputs": [
    {
     "name": "stderr",
     "output_type": "stream",
     "text": [
      "2025/04/21 22:00:54 WARNING mlflow.utils.environment: Failed to resolve installed pip version. ``pip`` will be added to conda.yaml environment spec without a version specifier.\n",
      "\u001b[31m2025/04/21 22:00:54 WARNING mlflow.models.model: Model logged without a signature and input example. Please set `input_example` parameter when logging the model to auto infer the model signature.\u001b[0m\n"
     ]
    }
   ],
   "source": [
    "# instantiate a model\n",
    "rfc = RandomForestClassifier()\n",
    "\n",
    "# log the model\n",
    "with mlflow.start_run(run_name=\"logging_model\") as run:\n",
    "    mlflow.sklearn.log_model(sk_model=rfc,artifact_path= rfc.__class__.__name__)"
   ]
  },
  {
   "cell_type": "markdown",
   "metadata": {},
   "source": [
    "# Registering a model using the Python SDK\n",
    "Providing `registered_model_name` parameter"
   ]
  },
  {
   "cell_type": "code",
   "execution_count": 7,
   "metadata": {},
   "outputs": [
    {
     "name": "stderr",
     "output_type": "stream",
     "text": [
      "2025/04/21 22:01:51 WARNING mlflow.utils.environment: Failed to resolve installed pip version. ``pip`` will be added to conda.yaml environment spec without a version specifier.\n",
      "\u001b[31m2025/04/21 22:01:51 WARNING mlflow.models.model: Model logged without a signature and input example. Please set `input_example` parameter when logging the model to auto infer the model signature.\u001b[0m\n",
      "Successfully registered model 'registered-model-sdk'.\n",
      "Created version '1' of model 'registered-model-sdk'.\n"
     ]
    }
   ],
   "source": [
    "# instantiate a model\n",
    "rfc = RandomForestClassifier(n_estimators=1)\n",
    "\n",
    "with mlflow.start_run(run_name=\"registering_model_providing_name\") as run:\n",
    "    # log the model\n",
    "    mlflow.sklearn.log_model(sk_model = rfc, artifact_path= rfc.__class__.__name__, registered_model_name=\"registered-model-sdk\")"
   ]
  },
  {
   "cell_type": "code",
   "execution_count": 8,
   "metadata": {},
   "outputs": [
    {
     "data": {
      "text/plain": [
       "'file:///Users/caiosainvallio/projects/mlflow_new/mlruns/0/bee0f264eaa444dc9e58c476b917daad/artifacts'"
      ]
     },
     "execution_count": 8,
     "metadata": {},
     "output_type": "execute_result"
    }
   ],
   "source": [
    "run.info.artifact_uri"
   ]
  },
  {
   "cell_type": "markdown",
   "metadata": {},
   "source": [
    "# Creating a registered model via SDK\n",
    "\n",
    "## create_registered_model"
   ]
  },
  {
   "cell_type": "code",
   "execution_count": 9,
   "metadata": {},
   "outputs": [
    {
     "name": "stdout",
     "output_type": "stream",
     "text": [
      "Model registered-model-via-client created\n",
      "Model description: None\n",
      "Model creation timestamp: 1745283851814\n",
      "Model Tags: {}\n",
      "Model Aliases: {}\n"
     ]
    }
   ],
   "source": [
    "model_name = \"registered-model-via-client\"\n",
    "\n",
    "try:\n",
    "    result = client.create_registered_model(name = model_name)\n",
    "except Exception as e:\n",
    "    # The method above fails if the model already exists\n",
    "    print(e)\n",
    "\n",
    "print(f\"Model {result.name} created\")\n",
    "print(f\"Model description: {result.description}\")\n",
    "print(f\"Model creation timestamp: {result.creation_timestamp}\")\n",
    "print(f\"Model Tags: {result.tags}\")\n",
    "print(f\"Model Aliases: {result.aliases}\")"
   ]
  },
  {
   "cell_type": "markdown",
   "metadata": {},
   "source": [
    "# Creating a model version\n",
    "\n",
    "## create_model_version"
   ]
  },
  {
   "cell_type": "code",
   "execution_count": 10,
   "metadata": {},
   "outputs": [
    {
     "name": "stdout",
     "output_type": "stream",
     "text": [
      "Model version 1 created\n",
      "Model version status: READY\n",
      "Model version description: Model Version created using MLflow Client\n",
      "Model version creation timestamp: 1745283897067\n",
      "Model version source: file:///Users/caiosainvallio/projects/mlflow_new/mlruns/0/bee0f264eaa444dc9e58c476b917daad/artifacts\n",
      "Model version run_id: bee0f264eaa444dc9e58c476b917daad\n",
      "Model version status_message: None\n"
     ]
    }
   ],
   "source": [
    "try:\n",
    "    model_version = client.create_model_version(\n",
    "        name = model_name,\n",
    "        source = run.info.artifact_uri,\n",
    "        run_id = run.info.run_id,\n",
    "        description = \"Model Version created using MLflow Client\")\n",
    "except Exception as e:\n",
    "    # The method above fails if the registered model does not exist.\n",
    "    print(e)\n",
    "\n",
    "print(f\"Model version {model_version.version} created\")\n",
    "print(f\"Model version status: {model_version.status}\")\n",
    "print(f\"Model version description: {model_version.description}\")\n",
    "print(f\"Model version creation timestamp: {model_version.creation_timestamp}\")\n",
    "print(f\"Model version source: {model_version.source}\")\n",
    "print(f\"Model version run_id: {model_version.run_id}\")\n",
    "print(f\"Model version status_message: {model_version.status_message}\")"
   ]
  },
  {
   "cell_type": "code",
   "execution_count": null,
   "metadata": {},
   "outputs": [],
   "source": []
  }
 ],
 "metadata": {
  "kernelspec": {
   "display_name": ".venv",
   "language": "python",
   "name": "python3"
  },
  "language_info": {
   "codemirror_mode": {
    "name": "ipython",
    "version": 3
   },
   "file_extension": ".py",
   "mimetype": "text/x-python",
   "name": "python",
   "nbconvert_exporter": "python",
   "pygments_lexer": "ipython3",
   "version": "3.13.0"
  }
 },
 "nbformat": 4,
 "nbformat_minor": 2
}
