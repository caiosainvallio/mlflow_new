{
 "cells": [
  {
   "cell_type": "code",
   "execution_count": 1,
   "metadata": {},
   "outputs": [
    {
     "data": {
      "text/plain": [
       "'2.21.3'"
      ]
     },
     "execution_count": 1,
     "metadata": {},
     "output_type": "execute_result"
    }
   ],
   "source": [
    "import mlflow\n",
    "\n",
    "mlflow.__version__"
   ]
  },
  {
   "cell_type": "code",
   "execution_count": 2,
   "metadata": {},
   "outputs": [],
   "source": [
    "from src.utils.folder_operations import get_project_root\n",
    "\n",
    "# set mlflow tracking uri\n",
    "mlflow.set_tracking_uri(\n",
    "    # (get_project_root() / 'mlflow_new/mlruns').as_uri()\n",
    "    \"http://localhost:3000\"\n",
    ")\n",
    "\n",
    "import os\n",
    "os.environ['AWS_ACCESS_KEY_ID'] = 'mlflow'\n",
    "os.environ['AWS_SECRET_ACCESS_KEY'] = 'mlflow123'\n",
    "os.environ['MLFLOW_S3_ENDPOINT_URL'] = 'http://localhost:9000'"
   ]
  },
  {
   "cell_type": "markdown",
   "metadata": {},
   "source": [
    "# MLflow Model Registry\n",
    "\n",
    "The MLflow Model Registry component is a centralized model store, set of APIs, and UI, to collaboratively manage the full lifecycle of an MLflow Model. It provides model lineage (which MLflow experiment and run produced the model), model versioning, model aliasing, model tagging, and annotations.\n",
    "\n",
    "## Concepts\n",
    "\n",
    "- Model\n",
    "- Registered Model\n",
    "- Model Version\n",
    "- Model Alias\n",
    "- Tags\n",
    "- Annotations and descriptions\n",
    "\n",
    "# Register a Model via UI"
   ]
  },
  {
   "cell_type": "code",
   "execution_count": 3,
   "metadata": {},
   "outputs": [],
   "source": [
    "from sklearn.ensemble import RandomForestClassifier"
   ]
  },
  {
   "cell_type": "code",
   "execution_count": 4,
   "metadata": {},
   "outputs": [],
   "source": [
    "client = mlflow.MlflowClient()"
   ]
  },
  {
   "cell_type": "code",
   "execution_count": 5,
   "metadata": {},
   "outputs": [
    {
     "name": "stderr",
     "output_type": "stream",
     "text": [
      "2025/05/07 11:30:54 WARNING mlflow.utils.environment: Failed to resolve installed pip version. ``pip`` will be added to conda.yaml environment spec without a version specifier.\n",
      "\u001b[31m2025/05/07 11:30:54 WARNING mlflow.models.model: Model logged without a signature and input example. Please set `input_example` parameter when logging the model to auto infer the model signature.\u001b[0m\n"
     ]
    },
    {
     "name": "stdout",
     "output_type": "stream",
     "text": [
      "🏃 View run logging_model at: http://localhost:3000/#/experiments/0/runs/4ce3cd327eb54eabb8dd4cdb715391cd\n",
      "🧪 View experiment at: http://localhost:3000/#/experiments/0\n"
     ]
    }
   ],
   "source": [
    "# instantiate a model\n",
    "rfc = RandomForestClassifier()\n",
    "\n",
    "# log the model\n",
    "with mlflow.start_run(run_name=\"logging_model\") as run:\n",
    "    mlflow.sklearn.log_model(sk_model=rfc,artifact_path= rfc.__class__.__name__)"
   ]
  },
  {
   "cell_type": "markdown",
   "metadata": {},
   "source": [
    "# Registering a model using the Python SDK\n",
    "Providing `registered_model_name` parameter"
   ]
  },
  {
   "cell_type": "code",
   "execution_count": 6,
   "metadata": {},
   "outputs": [
    {
     "name": "stderr",
     "output_type": "stream",
     "text": [
      "2025/05/07 11:31:50 WARNING mlflow.utils.environment: Failed to resolve installed pip version. ``pip`` will be added to conda.yaml environment spec without a version specifier.\n",
      "\u001b[31m2025/05/07 11:31:50 WARNING mlflow.models.model: Model logged without a signature and input example. Please set `input_example` parameter when logging the model to auto infer the model signature.\u001b[0m\n",
      "Successfully registered model 'registered-model-sdk'.\n",
      "2025/05/07 11:31:50 INFO mlflow.store.model_registry.abstract_store: Waiting up to 300 seconds for model version to finish creation. Model name: registered-model-sdk, version 1\n"
     ]
    },
    {
     "name": "stdout",
     "output_type": "stream",
     "text": [
      "🏃 View run registering_model_providing_name at: http://localhost:3000/#/experiments/0/runs/67a9bf456c4b4d7e8a8277ea351ec6eb\n",
      "🧪 View experiment at: http://localhost:3000/#/experiments/0\n"
     ]
    },
    {
     "name": "stderr",
     "output_type": "stream",
     "text": [
      "Created version '1' of model 'registered-model-sdk'.\n"
     ]
    }
   ],
   "source": [
    "# instantiate a model\n",
    "rfc = RandomForestClassifier(n_estimators=1)\n",
    "\n",
    "with mlflow.start_run(run_name=\"registering_model_providing_name\") as run:\n",
    "    # log the model\n",
    "    mlflow.sklearn.log_model(sk_model = rfc, artifact_path= rfc.__class__.__name__, registered_model_name=\"registered-model-sdk\")"
   ]
  },
  {
   "cell_type": "code",
   "execution_count": 7,
   "metadata": {},
   "outputs": [
    {
     "data": {
      "text/plain": [
       "'s3://mlflow/0/67a9bf456c4b4d7e8a8277ea351ec6eb/artifacts'"
      ]
     },
     "execution_count": 7,
     "metadata": {},
     "output_type": "execute_result"
    }
   ],
   "source": [
    "run.info.artifact_uri"
   ]
  },
  {
   "cell_type": "markdown",
   "metadata": {},
   "source": [
    "# Creating a registered model via SDK\n",
    "\n",
    "## create_registered_model"
   ]
  },
  {
   "cell_type": "code",
   "execution_count": 8,
   "metadata": {},
   "outputs": [
    {
     "name": "stdout",
     "output_type": "stream",
     "text": [
      "Model registered-model-via-client created\n",
      "Model description: \n",
      "Model creation timestamp: 1746628364348\n",
      "Model Tags: {}\n",
      "Model Aliases: {}\n"
     ]
    }
   ],
   "source": [
    "model_name = \"registered-model-via-client\"\n",
    "\n",
    "try:\n",
    "    result = client.create_registered_model(name = model_name)\n",
    "except Exception as e:\n",
    "    # The method above fails if the model already exists\n",
    "    print(e)\n",
    "\n",
    "print(f\"Model {result.name} created\")\n",
    "print(f\"Model description: {result.description}\")\n",
    "print(f\"Model creation timestamp: {result.creation_timestamp}\")\n",
    "print(f\"Model Tags: {result.tags}\")\n",
    "print(f\"Model Aliases: {result.aliases}\")"
   ]
  },
  {
   "cell_type": "markdown",
   "metadata": {},
   "source": [
    "# Creating a model version\n",
    "\n",
    "## create_model_version"
   ]
  },
  {
   "cell_type": "code",
   "execution_count": 9,
   "metadata": {},
   "outputs": [
    {
     "name": "stderr",
     "output_type": "stream",
     "text": [
      "2025/05/07 11:33:40 INFO mlflow.store.model_registry.abstract_store: Waiting up to 300 seconds for model version to finish creation. Model name: registered-model-via-client, version 1\n"
     ]
    },
    {
     "name": "stdout",
     "output_type": "stream",
     "text": [
      "Model version 1 created\n",
      "Model version status: READY\n",
      "Model version description: Model Version created using MLflow Client\n",
      "Model version creation timestamp: 1746628420279\n",
      "Model version source: s3://mlflow/0/67a9bf456c4b4d7e8a8277ea351ec6eb/artifacts\n",
      "Model version run_id: 67a9bf456c4b4d7e8a8277ea351ec6eb\n",
      "Model version status_message: None\n"
     ]
    }
   ],
   "source": [
    "try:\n",
    "    model_version = client.create_model_version(\n",
    "        name = model_name,\n",
    "        source = run.info.artifact_uri,\n",
    "        run_id = run.info.run_id,\n",
    "        description = \"Model Version created using MLflow Client\")\n",
    "except Exception as e:\n",
    "    # The method above fails if the registered model does not exist.\n",
    "    print(e)\n",
    "\n",
    "print(f\"Model version {model_version.version} created\")\n",
    "print(f\"Model version status: {model_version.status}\")\n",
    "print(f\"Model version description: {model_version.description}\")\n",
    "print(f\"Model version creation timestamp: {model_version.creation_timestamp}\")\n",
    "print(f\"Model version source: {model_version.source}\")\n",
    "print(f\"Model version run_id: {model_version.run_id}\")\n",
    "print(f\"Model version status_message: {model_version.status_message}\")"
   ]
  },
  {
   "cell_type": "code",
   "execution_count": null,
   "metadata": {},
   "outputs": [],
   "source": []
  }
 ],
 "metadata": {
  "kernelspec": {
   "display_name": ".venv",
   "language": "python",
   "name": "python3"
  },
  "language_info": {
   "codemirror_mode": {
    "name": "ipython",
    "version": 3
   },
   "file_extension": ".py",
   "mimetype": "text/x-python",
   "name": "python",
   "nbconvert_exporter": "python",
   "pygments_lexer": "ipython3",
   "version": "3.13.0"
  }
 },
 "nbformat": 4,
 "nbformat_minor": 2
}
