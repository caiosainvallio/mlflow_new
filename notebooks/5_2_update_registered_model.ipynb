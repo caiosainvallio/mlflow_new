{
 "cells": [
  {
   "cell_type": "code",
   "execution_count": 1,
   "metadata": {},
   "outputs": [
    {
     "data": {
      "text/plain": [
       "'2.21.3'"
      ]
     },
     "execution_count": 1,
     "metadata": {},
     "output_type": "execute_result"
    }
   ],
   "source": [
    "import mlflow\n",
    "\n",
    "mlflow.__version__"
   ]
  },
  {
   "cell_type": "code",
   "execution_count": 2,
   "metadata": {},
   "outputs": [],
   "source": [
    "from src.utils.folder_operations import get_project_root\n",
    "\n",
    "# set mlflow tracking uri\n",
    "mlflow.set_tracking_uri(\n",
    "    (get_project_root() / 'mlflow_new/mlruns').as_uri()\n",
    ")"
   ]
  },
  {
   "cell_type": "markdown",
   "metadata": {},
   "source": [
    "# Update a Registered Model\n",
    "Registering a model with the minimum information."
   ]
  },
  {
   "cell_type": "code",
   "execution_count": 3,
   "metadata": {},
   "outputs": [],
   "source": [
    "from sklearn.ensemble import RandomForestClassifier"
   ]
  },
  {
   "cell_type": "code",
   "execution_count": 4,
   "metadata": {},
   "outputs": [
    {
     "name": "stderr",
     "output_type": "stream",
     "text": [
      "2025/04/21 22:08:17 WARNING mlflow.utils.environment: Failed to resolve installed pip version. ``pip`` will be added to conda.yaml environment spec without a version specifier.\n",
      "\u001b[31m2025/04/21 22:08:17 WARNING mlflow.models.model: Model logged without a signature and input example. Please set `input_example` parameter when logging the model to auto infer the model signature.\u001b[0m\n",
      "Successfully registered model 'random-forest-classifier'.\n",
      "Created version '1' of model 'random-forest-classifier'.\n"
     ]
    }
   ],
   "source": [
    "# Instantiate a model\n",
    "rfc = RandomForestClassifier()\n",
    "\n",
    "registered_model_name = \"random-forest-classifier\"\n",
    "with mlflow.start_run(run_name=\"registering-model\") as run:\n",
    "    # Log the model\n",
    "    mlflow.sklearn.log_model(sk_model = rfc, artifact_path = rfc.__class__.__name__, registered_model_name=registered_model_name) "
   ]
  },
  {
   "cell_type": "markdown",
   "metadata": {},
   "source": [
    "# Adding Model Description\n",
    "\n",
    "## update_registered_model"
   ]
  },
  {
   "cell_type": "code",
   "execution_count": 5,
   "metadata": {},
   "outputs": [],
   "source": [
    "client = mlflow.MlflowClient()"
   ]
  },
  {
   "cell_type": "code",
   "execution_count": 6,
   "metadata": {},
   "outputs": [
    {
     "data": {
      "text/plain": [
       "<RegisteredModel: aliases={}, creation_timestamp=1745284097237, description='This is a random forest classifier model', last_updated_timestamp=1745284153734, latest_versions=[<ModelVersion: aliases=[], creation_timestamp=1745284097238, current_stage='None', description=None, last_updated_timestamp=1745284097238, name='random-forest-classifier', run_id='56dcb56529444e38a56d5869c0127010', run_link=None, source='file:///Users/caiosainvallio/projects/mlflow_new/mlruns/0/56dcb56529444e38a56d5869c0127010/artifacts/RandomForestClassifier', status='READY', status_message=None, tags={}, user_id=None, version=1>], name='random-forest-classifier', tags={}>"
      ]
     },
     "execution_count": 6,
     "metadata": {},
     "output_type": "execute_result"
    }
   ],
   "source": [
    "client.update_registered_model(name = registered_model_name, description=\"This is a random forest classifier model\")"
   ]
  },
  {
   "cell_type": "markdown",
   "metadata": {},
   "source": [
    "# Adding Model Tags\n",
    "\n",
    "## set_registered_model_tag"
   ]
  },
  {
   "cell_type": "code",
   "execution_count": 7,
   "metadata": {},
   "outputs": [],
   "source": [
    "registered_model_tags = {\n",
    "    \"project_name\":\"UNDEFINED\",\n",
    "    \"task\":\"classification\",\n",
    "    \"framework\":\"sklearn\",\n",
    "}\n",
    "\n",
    "for key, value in registered_model_tags.items():\n",
    "    \n",
    "    client.set_registered_model_tag(name=registered_model_name, key=key, value=value)"
   ]
  },
  {
   "cell_type": "markdown",
   "metadata": {},
   "source": [
    "# Set Model Alias\n",
    "\n",
    "## set_registered_model_alias"
   ]
  },
  {
   "cell_type": "code",
   "execution_count": 8,
   "metadata": {},
   "outputs": [],
   "source": [
    "model_aliases = [\"Champion\", \"Candidate\",\"Development\"]\n",
    "\n",
    "for model_alias in model_aliases:\n",
    "    client.set_registered_model_alias(name=registered_model_name, alias = model_alias, version=\"1\")"
   ]
  },
  {
   "cell_type": "markdown",
   "metadata": {},
   "source": [
    "# Creating a new version"
   ]
  },
  {
   "cell_type": "code",
   "execution_count": 9,
   "metadata": {},
   "outputs": [
    {
     "name": "stderr",
     "output_type": "stream",
     "text": [
      "2025/04/21 22:12:59 WARNING mlflow.utils.environment: Failed to resolve installed pip version. ``pip`` will be added to conda.yaml environment spec without a version specifier.\n",
      "\u001b[31m2025/04/21 22:12:59 WARNING mlflow.models.model: Model logged without a signature and input example. Please set `input_example` parameter when logging the model to auto infer the model signature.\u001b[0m\n",
      "Registered model 'random-forest-classifier' already exists. Creating a new version of this model...\n",
      "Created version '2' of model 'random-forest-classifier'.\n"
     ]
    }
   ],
   "source": [
    "# Instantiate a model\n",
    "rfc = RandomForestClassifier()\n",
    "\n",
    "with mlflow.start_run(run_name=\"registering-model\") as run:\n",
    "    # Log the model\n",
    "    mlflow.sklearn.log_model(sk_model = rfc, artifact_path = rfc.__class__.__name__, registered_model_name=registered_model_name) "
   ]
  },
  {
   "cell_type": "code",
   "execution_count": 10,
   "metadata": {},
   "outputs": [],
   "source": [
    "# Set the alias to \"Champion\" for the new version of the model. \n",
    "# An alias can only be set to one version of a model at a time.\n",
    "client.set_registered_model_alias(name=registered_model_name, alias = \"Champion\", version=\"2\")"
   ]
  },
  {
   "cell_type": "code",
   "execution_count": null,
   "metadata": {},
   "outputs": [],
   "source": []
  },
  {
   "cell_type": "code",
   "execution_count": null,
   "metadata": {},
   "outputs": [],
   "source": []
  },
  {
   "cell_type": "code",
   "execution_count": null,
   "metadata": {},
   "outputs": [],
   "source": []
  },
  {
   "cell_type": "code",
   "execution_count": null,
   "metadata": {},
   "outputs": [],
   "source": []
  }
 ],
 "metadata": {
  "kernelspec": {
   "display_name": ".venv",
   "language": "python",
   "name": "python3"
  },
  "language_info": {
   "codemirror_mode": {
    "name": "ipython",
    "version": 3
   },
   "file_extension": ".py",
   "mimetype": "text/x-python",
   "name": "python",
   "nbconvert_exporter": "python",
   "pygments_lexer": "ipython3",
   "version": "3.13.0"
  }
 },
 "nbformat": 4,
 "nbformat_minor": 2
}
