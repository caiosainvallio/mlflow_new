{
 "cells": [
  {
   "cell_type": "code",
   "execution_count": 1,
   "metadata": {},
   "outputs": [
    {
     "data": {
      "text/plain": [
       "'2.21.3'"
      ]
     },
     "execution_count": 1,
     "metadata": {},
     "output_type": "execute_result"
    }
   ],
   "source": [
    "import mlflow\n",
    "\n",
    "mlflow.__version__"
   ]
  },
  {
   "cell_type": "code",
   "execution_count": 2,
   "metadata": {},
   "outputs": [],
   "source": [
    "from src.utils.folder_operations import get_project_root\n",
    "\n",
    "# set mlflow tracking uri\n",
    "mlflow.set_tracking_uri(\n",
    "    (get_project_root() / 'mlflow_new/mlruns').as_uri()\n",
    ")"
   ]
  },
  {
   "cell_type": "markdown",
   "metadata": {},
   "source": [
    "# Update a model version\n",
    "\n",
    "# Add Model Version Description\n",
    "\n",
    "## update_model_version"
   ]
  },
  {
   "cell_type": "code",
   "execution_count": 3,
   "metadata": {},
   "outputs": [],
   "source": [
    "client = mlflow.MlflowClient()\n",
    "registered_model_name = \"random-forest-classifier\""
   ]
  },
  {
   "cell_type": "code",
   "execution_count": 4,
   "metadata": {},
   "outputs": [
    {
     "data": {
      "text/plain": [
       "<ModelVersion: aliases=['Candidate', 'Development'], creation_timestamp=1745284097238, current_stage='None', description='This is a new description for model version 1', last_updated_timestamp=1745284584227, name='random-forest-classifier', run_id='56dcb56529444e38a56d5869c0127010', run_link=None, source='file:///Users/caiosainvallio/projects/mlflow_new/mlruns/0/56dcb56529444e38a56d5869c0127010/artifacts/RandomForestClassifier', status='READY', status_message=None, tags={}, user_id=None, version=1>"
      ]
     },
     "execution_count": 4,
     "metadata": {},
     "output_type": "execute_result"
    }
   ],
   "source": [
    "# update version 1 \n",
    "client.update_model_version(name = registered_model_name, version = \"1\", description = \"This is a new description for model version 1\")"
   ]
  },
  {
   "cell_type": "code",
   "execution_count": 5,
   "metadata": {},
   "outputs": [
    {
     "data": {
      "text/plain": [
       "<ModelVersion: aliases=['Champion'], creation_timestamp=1745284379130, current_stage='None', description='This is a new description for model version 2', last_updated_timestamp=1745284625392, name='random-forest-classifier', run_id='11840e8bb0424a0ba299c60cc1305e4d', run_link=None, source='file:///Users/caiosainvallio/projects/mlflow_new/mlruns/0/11840e8bb0424a0ba299c60cc1305e4d/artifacts/RandomForestClassifier', status='READY', status_message=None, tags={}, user_id=None, version=2>"
      ]
     },
     "execution_count": 5,
     "metadata": {},
     "output_type": "execute_result"
    }
   ],
   "source": [
    "# update version 2\n",
    "client.update_model_version(name = registered_model_name, version = \"2\", description = \"This is a new description for model version 2\")"
   ]
  },
  {
   "cell_type": "markdown",
   "metadata": {},
   "source": [
    "# Add Model Version Tag\n",
    "\n",
    "## set_model_version_tag"
   ]
  },
  {
   "cell_type": "code",
   "execution_count": 6,
   "metadata": {},
   "outputs": [],
   "source": [
    "client.set_model_version_tag(name = registered_model_name, version = \"1\", key = \"validation_status\", value = \"pending\")"
   ]
  },
  {
   "cell_type": "code",
   "execution_count": 7,
   "metadata": {},
   "outputs": [],
   "source": [
    "client.set_model_version_tag(name = registered_model_name, version = \"2\", key = \"validation_status\", value = \"Ready for Deployment\")"
   ]
  },
  {
   "cell_type": "code",
   "execution_count": null,
   "metadata": {},
   "outputs": [],
   "source": []
  }
 ],
 "metadata": {
  "kernelspec": {
   "display_name": ".venv",
   "language": "python",
   "name": "python3"
  },
  "language_info": {
   "codemirror_mode": {
    "name": "ipython",
    "version": 3
   },
   "file_extension": ".py",
   "mimetype": "text/x-python",
   "name": "python",
   "nbconvert_exporter": "python",
   "pygments_lexer": "ipython3",
   "version": "3.13.0"
  }
 },
 "nbformat": 4,
 "nbformat_minor": 2
}
