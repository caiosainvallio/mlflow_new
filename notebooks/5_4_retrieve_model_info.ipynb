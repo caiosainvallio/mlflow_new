{
 "cells": [
  {
   "cell_type": "code",
   "execution_count": 1,
   "metadata": {},
   "outputs": [
    {
     "data": {
      "text/plain": [
       "'2.21.3'"
      ]
     },
     "execution_count": 1,
     "metadata": {},
     "output_type": "execute_result"
    }
   ],
   "source": [
    "import mlflow\n",
    "\n",
    "mlflow.__version__"
   ]
  },
  {
   "cell_type": "code",
   "execution_count": 2,
   "metadata": {},
   "outputs": [],
   "source": [
    "from src.utils.folder_operations import get_project_root\n",
    "\n",
    "# set mlflow tracking uri\n",
    "mlflow.set_tracking_uri(\n",
    "    (get_project_root() / 'mlflow_new/mlruns').as_uri()\n",
    ")"
   ]
  },
  {
   "cell_type": "markdown",
   "metadata": {},
   "source": [
    "# Retrieve Registered Model Info"
   ]
  },
  {
   "cell_type": "code",
   "execution_count": 3,
   "metadata": {},
   "outputs": [],
   "source": [
    "client = mlflow.MlflowClient()\n",
    "registered_model_name = \"random-forest-classifier\""
   ]
  },
  {
   "cell_type": "markdown",
   "metadata": {},
   "source": [
    "# get_registered_model\n",
    "\n",
    "## Retrieve the Registered Model object"
   ]
  },
  {
   "cell_type": "code",
   "execution_count": 4,
   "metadata": {},
   "outputs": [],
   "source": [
    "registered_model = client.get_registered_model(name = registered_model_name)"
   ]
  },
  {
   "cell_type": "code",
   "execution_count": 5,
   "metadata": {},
   "outputs": [
    {
     "data": {
      "text/plain": [
       "mlflow.entities.model_registry.registered_model.RegisteredModel"
      ]
     },
     "execution_count": 5,
     "metadata": {},
     "output_type": "execute_result"
    }
   ],
   "source": [
    "type(registered_model)"
   ]
  },
  {
   "cell_type": "code",
   "execution_count": 6,
   "metadata": {},
   "outputs": [
    {
     "name": "stdout",
     "output_type": "stream",
     "text": [
      "Model name: random-forest-classifier\n",
      "Model creation time: 1745284097237\n",
      "Model tags: {'project_name': 'UNDEFINED', 'framework': 'sklearn', 'task': 'classification'}\n",
      "Model description: This is a random forest classifier model\n",
      "Model latest version: [<ModelVersion: aliases=['Champion'], creation_timestamp=1745284379130, current_stage='None', description='This is a new description for model version 2', last_updated_timestamp=1745284625392, name='random-forest-classifier', run_id='11840e8bb0424a0ba299c60cc1305e4d', run_link=None, source='file:///Users/caiosainvallio/projects/mlflow_new/mlruns/0/11840e8bb0424a0ba299c60cc1305e4d/artifacts/RandomForestClassifier', status='READY', status_message=None, tags={'validation_status': 'Ready for Deployment'}, user_id=None, version=2>]\n"
     ]
    }
   ],
   "source": [
    "print(f\"Model name: {registered_model.name}\")\n",
    "print(f\"Model creation time: {registered_model.creation_timestamp}\")\n",
    "print(f\"Model tags: {registered_model.tags}\")\n",
    "print(f\"Model description: {registered_model.description}\")\n",
    "print(f\"Model latest version: {registered_model.latest_versions}\")"
   ]
  },
  {
   "cell_type": "markdown",
   "metadata": {},
   "source": [
    "# get_model_version\n",
    "\n",
    "## Get model version"
   ]
  },
  {
   "cell_type": "code",
   "execution_count": 7,
   "metadata": {},
   "outputs": [],
   "source": [
    "# get model version 1\n",
    "model_version_1 = client.get_model_version(name = registered_model_name, version = \"1\")"
   ]
  },
  {
   "cell_type": "code",
   "execution_count": 8,
   "metadata": {},
   "outputs": [
    {
     "name": "stdout",
     "output_type": "stream",
     "text": [
      "Model version: 1\n",
      "Model version creation time: 1745284097238\n",
      "Model version description: This is a new description for model version 1\n",
      "Model version source: file:///Users/caiosainvallio/projects/mlflow_new/mlruns/0/56dcb56529444e38a56d5869c0127010/artifacts/RandomForestClassifier\n",
      "Model version status: READY\n",
      "Model version run_id: 56dcb56529444e38a56d5869c0127010\n",
      "Model version tags: {'validation_status': 'pending'}\n",
      "Model version aliases: ['Candidate', 'Development']\n"
     ]
    }
   ],
   "source": [
    "print(f\"Model version: {model_version_1.version}\")\n",
    "print(f\"Model version creation time: {model_version_1.creation_timestamp}\")\n",
    "print(f\"Model version description: {model_version_1.description}\")\n",
    "print(f\"Model version source: {model_version_1.source}\")\n",
    "print(f\"Model version status: {model_version_1.status}\")\n",
    "print(f\"Model version run_id: {model_version_1.run_id}\")\n",
    "print(f\"Model version tags: {model_version_1.tags}\")\n",
    "print(f\"Model version aliases: {model_version_1.aliases}\")"
   ]
  },
  {
   "cell_type": "code",
   "execution_count": 9,
   "metadata": {},
   "outputs": [],
   "source": [
    "# Get model version 2\n",
    "model_version_2 = client.get_model_version(name = registered_model_name, version = \"2\")"
   ]
  },
  {
   "cell_type": "code",
   "execution_count": 10,
   "metadata": {},
   "outputs": [
    {
     "name": "stdout",
     "output_type": "stream",
     "text": [
      "Model version: 2\n",
      "Model version creation time: 1745284379130\n",
      "Model version description: This is a new description for model version 2\n",
      "Model version source: file:///Users/caiosainvallio/projects/mlflow_new/mlruns/0/11840e8bb0424a0ba299c60cc1305e4d/artifacts/RandomForestClassifier\n",
      "Model version status: READY\n",
      "Model version run_id: 11840e8bb0424a0ba299c60cc1305e4d\n",
      "Model version tags: {'validation_status': 'Ready for Deployment'}\n",
      "Model version aliases: ['Champion']\n"
     ]
    }
   ],
   "source": [
    "print(f\"Model version: {model_version_2.version}\")\n",
    "print(f\"Model version creation time: {model_version_2.creation_timestamp}\")\n",
    "print(f\"Model version description: {model_version_2.description}\")\n",
    "print(f\"Model version source: {model_version_2.source}\")\n",
    "print(f\"Model version status: {model_version_2.status}\")\n",
    "print(f\"Model version run_id: {model_version_2.run_id}\")\n",
    "print(f\"Model version tags: {model_version_2.tags}\")\n",
    "print(f\"Model version aliases: {model_version_2.aliases}\")"
   ]
  },
  {
   "cell_type": "markdown",
   "metadata": {},
   "source": [
    "# get_model_version_by_alias\n",
    "\n",
    "## Get model Version By Alias"
   ]
  },
  {
   "cell_type": "code",
   "execution_count": 11,
   "metadata": {},
   "outputs": [],
   "source": [
    "model_version_champ = client.get_model_version_by_alias(name = registered_model_name, alias = \"Development\")"
   ]
  },
  {
   "cell_type": "code",
   "execution_count": 12,
   "metadata": {},
   "outputs": [
    {
     "name": "stdout",
     "output_type": "stream",
     "text": [
      "Model version: 1\n",
      "Model version creation time: 1745284097238\n",
      "Model version description: This is a new description for model version 1\n",
      "Model version source: file:///Users/caiosainvallio/projects/mlflow_new/mlruns/0/56dcb56529444e38a56d5869c0127010/artifacts/RandomForestClassifier\n",
      "Model version status: READY\n",
      "Model version run_id: 56dcb56529444e38a56d5869c0127010\n",
      "Model version tags: {'validation_status': 'pending'}\n",
      "Model version aliases: ['Candidate', 'Development']\n"
     ]
    }
   ],
   "source": [
    "print(f\"Model version: {model_version_champ.version}\")\n",
    "print(f\"Model version creation time: {model_version_champ.creation_timestamp}\")\n",
    "print(f\"Model version description: {model_version_champ.description}\")\n",
    "print(f\"Model version source: {model_version_champ.source}\")\n",
    "print(f\"Model version status: {model_version_champ.status}\")\n",
    "print(f\"Model version run_id: {model_version_champ.run_id}\")\n",
    "print(f\"Model version tags: {model_version_champ.tags}\")\n",
    "print(f\"Model version aliases: {model_version_champ.aliases}\")"
   ]
  },
  {
   "cell_type": "code",
   "execution_count": null,
   "metadata": {},
   "outputs": [],
   "source": []
  }
 ],
 "metadata": {
  "kernelspec": {
   "display_name": ".venv",
   "language": "python",
   "name": "python3"
  },
  "language_info": {
   "codemirror_mode": {
    "name": "ipython",
    "version": 3
   },
   "file_extension": ".py",
   "mimetype": "text/x-python",
   "name": "python",
   "nbconvert_exporter": "python",
   "pygments_lexer": "ipython3",
   "version": "3.13.0"
  }
 },
 "nbformat": 4,
 "nbformat_minor": 2
}
