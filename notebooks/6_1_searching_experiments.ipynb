{
 "cells": [
  {
   "cell_type": "code",
   "execution_count": 1,
   "metadata": {},
   "outputs": [
    {
     "data": {
      "text/plain": [
       "'2.21.3'"
      ]
     },
     "execution_count": 1,
     "metadata": {},
     "output_type": "execute_result"
    }
   ],
   "source": [
    "import mlflow\n",
    "\n",
    "mlflow.__version__"
   ]
  },
  {
   "cell_type": "code",
   "execution_count": 2,
   "metadata": {},
   "outputs": [],
   "source": [
    "from src.utils.folder_operations import get_project_root\n",
    "\n",
    "# set mlflow tracking uri\n",
    "mlflow.set_tracking_uri(\n",
    "    # (get_project_root() / 'mlflow_new/mlruns').as_uri()\n",
    "    \"http://localhost:3000\"\n",
    ")\n",
    "\n",
    "import os\n",
    "os.environ['AWS_ACCESS_KEY_ID'] = 'mlflow'\n",
    "os.environ['AWS_SECRET_ACCESS_KEY'] = 'mlflow123'\n",
    "os.environ['MLFLOW_S3_ENDPOINT_URL'] = 'http://localhost:9000'"
   ]
  },
  {
   "cell_type": "code",
   "execution_count": 5,
   "metadata": {},
   "outputs": [],
   "source": [
    "# from src.utils.experiment_batch import create_experiments_batch\n",
    "# from src.utils.experiment_batch import delete_experiments_batch"
   ]
  },
  {
   "cell_type": "code",
   "execution_count": 6,
   "metadata": {},
   "outputs": [],
   "source": [
    "# #create 20 experiments randomly\n",
    "# experiment_ids = create_experiments_batch(20)\n",
    "\n",
    "# # delete first 5 experiments\n",
    "# delete_experiments_batch(experiment_ids[0:5]) "
   ]
  },
  {
   "cell_type": "markdown",
   "metadata": {},
   "source": [
    "# search_experiments"
   ]
  },
  {
   "cell_type": "code",
   "execution_count": 3,
   "metadata": {},
   "outputs": [
    {
     "name": "stdout",
     "output_type": "stream",
     "text": [
      "All Experiments: 2\n",
      "\n",
      "deleted 1 renamed-experiment\n",
      "\n",
      "\n",
      "active 0 Default\n",
      "\n",
      "\n"
     ]
    }
   ],
   "source": [
    "# search for all experiments and print them. view_type=mlflow.tracking.client.ViewType.ALL\n",
    "\n",
    "all_experiments = mlflow.search_experiments(view_type=mlflow.tracking.client.ViewType.ALL)\n",
    "print(f\"All Experiments: {len(all_experiments)}\\n\")\n",
    "for experiment in all_experiments:\n",
    "    \n",
    "    print(experiment.lifecycle_stage, experiment.experiment_id, experiment.name)\n",
    "    print(\"\\n\")"
   ]
  },
  {
   "cell_type": "code",
   "execution_count": 4,
   "metadata": {},
   "outputs": [
    {
     "name": "stdout",
     "output_type": "stream",
     "text": [
      "Active Experiments: 1 \n",
      "\n",
      "active 0 Default\n",
      "\n",
      "\n"
     ]
    }
   ],
   "source": [
    "# search for all active experiments and print them. view_type=mlflow.tracking.client.ViewType.ACTIVE_ONLY\n",
    "\n",
    "active_experiments = mlflow.search_experiments(view_type=mlflow.tracking.client.ViewType.ACTIVE_ONLY)\n",
    "\n",
    "print(f\"Active Experiments: {len(active_experiments)} \\n\")\n",
    "for experiment in active_experiments:\n",
    "    \n",
    "    print(experiment.lifecycle_stage, experiment.experiment_id, experiment.name)\n",
    "    print(\"\\n\")"
   ]
  },
  {
   "cell_type": "code",
   "execution_count": 5,
   "metadata": {},
   "outputs": [
    {
     "name": "stdout",
     "output_type": "stream",
     "text": [
      "Deleted Experiments: 1 \n",
      "\n",
      "deleted 1 renamed-experiment\n",
      "\n",
      "\n"
     ]
    }
   ],
   "source": [
    "# search for deleted experiments and print them. view_type=mlflow.tracking.client.ViewType.DELETED_ONLY\n",
    "deleted_experiments = mlflow.search_experiments(view_type=mlflow.tracking.client.ViewType.DELETED_ONLY)\n",
    "\n",
    "print(f\"Deleted Experiments: {len(deleted_experiments)} \\n\")\n",
    "for experiment in deleted_experiments:\n",
    "    \n",
    "    print(experiment.lifecycle_stage, experiment.experiment_id, experiment.name)\n",
    "    print(\"\\n\")"
   ]
  },
  {
   "cell_type": "markdown",
   "metadata": {},
   "source": [
    "## max_results"
   ]
  },
  {
   "cell_type": "code",
   "execution_count": 6,
   "metadata": {},
   "outputs": [
    {
     "name": "stdout",
     "output_type": "stream",
     "text": [
      "Deleted Experiments: 1 \n",
      "\n",
      "active 0 Default\n",
      "\n",
      "\n"
     ]
    }
   ],
   "source": [
    "active_experiments = mlflow.search_experiments(view_type=mlflow.tracking.client.ViewType.ACTIVE_ONLY, max_results=4)\n",
    "print(f\"Deleted Experiments: {len(active_experiments)} \\n\")\n",
    "for experiment in active_experiments:\n",
    "    \n",
    "    print(experiment.lifecycle_stage, experiment.experiment_id, experiment.name)\n",
    "    print(\"\\n\")"
   ]
  },
  {
   "cell_type": "markdown",
   "metadata": {},
   "source": [
    "# Order By\n",
    "\n",
    "The following fields are supported:\n",
    "\n",
    "- experiment_id: Experiment ID\n",
    "\n",
    "- name: Experiment name\n",
    "\n",
    "- creation_time: Experiment creation time"
   ]
  },
  {
   "cell_type": "code",
   "execution_count": 7,
   "metadata": {},
   "outputs": [
    {
     "name": "stdout",
     "output_type": "stream",
     "text": [
      "Active experiments: 1\n",
      "\n",
      "active 0 Default\n",
      "\n",
      "\n"
     ]
    }
   ],
   "source": [
    "active_experiments = mlflow.search_experiments(view_type=mlflow.tracking.client.ViewType.ACTIVE_ONLY, max_results=2, order_by=[\"creation_time DESC\"])\n",
    "print(f\"Active experiments: {len(active_experiments)}\\n\")\n",
    "for experiment in active_experiments:\n",
    "    print(experiment.lifecycle_stage, experiment.experiment_id, experiment.name)\n",
    "    print(\"\\n\")"
   ]
  },
  {
   "cell_type": "markdown",
   "metadata": {},
   "source": [
    "## filter string"
   ]
  },
  {
   "cell_type": "code",
   "execution_count": 8,
   "metadata": {},
   "outputs": [
    {
     "name": "stdout",
     "output_type": "stream",
     "text": [
      "Experiments: 0\n",
      "\n"
     ]
    }
   ],
   "source": [
    "experiments = mlflow.search_experiments(view_type=mlflow.tracking.client.ViewType.ALL, max_results=2, filter_string=\"name = 'experiment_1'\")\n",
    "print(f\"Experiments: {len(experiments)}\\n\")\n",
    "for experiment in experiments:\n",
    "    print(experiment.lifecycle_stage, experiment.experiment_id, experiment.name)\n",
    "    print(\"\\n\")"
   ]
  },
  {
   "cell_type": "markdown",
   "metadata": {},
   "source": [
    "It is possible to combine multiple conditions, and use multiple string operators\n",
    "\n",
    "Operator: = (Equal to)"
   ]
  },
  {
   "cell_type": "code",
   "execution_count": 9,
   "metadata": {},
   "outputs": [
    {
     "name": "stdout",
     "output_type": "stream",
     "text": [
      "Experiments: 0\n",
      "\n"
     ]
    }
   ],
   "source": [
    "experiments = mlflow.search_experiments(view_type=mlflow.tracking.client.ViewType.ACTIVE_ONLY,\n",
    "                                        max_results=10,\n",
    "                                        filter_string=\"tags.project_type = 'production' AND tags.inference_type = 'batch'\",\n",
    "                                        order_by=[\"last_update_time ASC\"]\n",
    "                                    )\n",
    "print(f\"Experiments: {len(experiments)}\\n\")\n",
    "for experiment in experiments:\n",
    "    print(experiment.lifecycle_stage, experiment.experiment_id, experiment.name, experiment.tags)\n",
    "    print(\"\\n\")"
   ]
  },
  {
   "cell_type": "markdown",
   "metadata": {},
   "source": [
    "Operator: != (not equal)"
   ]
  },
  {
   "cell_type": "code",
   "execution_count": 10,
   "metadata": {},
   "outputs": [
    {
     "name": "stdout",
     "output_type": "stream",
     "text": [
      "Experiments: 0\n",
      "\n"
     ]
    }
   ],
   "source": [
    "experiments = mlflow.search_experiments(view_type=mlflow.tracking.client.ViewType.ACTIVE_ONLY,\n",
    "                                        max_results=10,\n",
    "                                        filter_string=\"tags.project_type != 'production' AND tags.inference_type = 'batch'\",\n",
    "                                        order_by=[\"last_update_time ASC\"]\n",
    "                                    )\n",
    "print(f\"Experiments: {len(experiments)}\\n\")\n",
    "for experiment in experiments:\n",
    "    print(experiment.lifecycle_stage, experiment.experiment_id, experiment.name, experiment.tags)\n",
    "    print(\"\\n\")"
   ]
  },
  {
   "cell_type": "markdown",
   "metadata": {},
   "source": [
    "Operator: LIKE ( Case-sensitive pattern match)"
   ]
  },
  {
   "cell_type": "code",
   "execution_count": 11,
   "metadata": {},
   "outputs": [
    {
     "name": "stdout",
     "output_type": "stream",
     "text": [
      "Experiments: 0\n",
      "\n"
     ]
    }
   ],
   "source": [
    "experiments = mlflow.search_experiments(view_type=mlflow.tracking.client.ViewType.ACTIVE_ONLY,\n",
    "                                        max_results=10,\n",
    "                                        filter_string=\"tags.project_type != 'research' AND tags.data_type LIKE 'semi%'\",\n",
    "                                        order_by=[\"last_update_time ASC\"]\n",
    "                                    )\n",
    "print(f\"Experiments: {len(experiments)}\\n\")\n",
    "for experiment in experiments:\n",
    "    print(experiment.lifecycle_stage, experiment.experiment_id, experiment.name, experiment.tags)\n",
    "    print(\"\\n\")"
   ]
  },
  {
   "cell_type": "markdown",
   "metadata": {},
   "source": [
    "Operator: ILIKE (Case-insensitive pattern match)"
   ]
  },
  {
   "cell_type": "code",
   "execution_count": 12,
   "metadata": {},
   "outputs": [
    {
     "name": "stdout",
     "output_type": "stream",
     "text": [
      "Experiments: 0\n",
      "\n"
     ]
    }
   ],
   "source": [
    "experiments = mlflow.search_experiments(view_type=mlflow.tracking.client.ViewType.ACTIVE_ONLY,\n",
    "                                        max_results=10,\n",
    "                                        filter_string=\"tags.project_type != 'research' AND tags.data_type ILIKE 'sEMi%'\",\n",
    "                                        order_by=[\"last_update_time ASC\"]\n",
    "                                    )\n",
    "print(f\"Experiments: {len(experiments)}\\n\")\n",
    "for experiment in experiments:\n",
    "    print(experiment.lifecycle_stage, experiment.experiment_id, experiment.name, experiment.tags)\n",
    "    print(\"\\n\")"
   ]
  },
  {
   "cell_type": "code",
   "execution_count": null,
   "metadata": {},
   "outputs": [],
   "source": []
  }
 ],
 "metadata": {
  "kernelspec": {
   "display_name": ".venv",
   "language": "python",
   "name": "python3"
  },
  "language_info": {
   "codemirror_mode": {
    "name": "ipython",
    "version": 3
   },
   "file_extension": ".py",
   "mimetype": "text/x-python",
   "name": "python",
   "nbconvert_exporter": "python",
   "pygments_lexer": "ipython3",
   "version": "3.13.0"
  }
 },
 "nbformat": 4,
 "nbformat_minor": 2
}
