{
 "cells": [
  {
   "cell_type": "code",
   "execution_count": 1,
   "metadata": {},
   "outputs": [
    {
     "data": {
      "text/plain": [
       "'2.21.3'"
      ]
     },
     "execution_count": 1,
     "metadata": {},
     "output_type": "execute_result"
    }
   ],
   "source": [
    "import mlflow\n",
    "\n",
    "mlflow.__version__"
   ]
  },
  {
   "cell_type": "code",
   "execution_count": 2,
   "metadata": {},
   "outputs": [],
   "source": [
    "from src.utils.folder_operations import get_project_root\n",
    "\n",
    "# set mlflow tracking uri\n",
    "mlflow.set_tracking_uri(\n",
    "    (get_project_root() / 'mlflow_new/mlruns').as_uri()\n",
    ")"
   ]
  },
  {
   "cell_type": "code",
   "execution_count": 5,
   "metadata": {},
   "outputs": [],
   "source": [
    "from src.utils.experiment_batch import create_experiments_batch\n",
    "from src.utils.experiment_batch import delete_experiments_batch"
   ]
  },
  {
   "cell_type": "code",
   "execution_count": 6,
   "metadata": {},
   "outputs": [],
   "source": [
    "#create 20 experiments randomly\n",
    "experiment_ids = create_experiments_batch(20)\n",
    "\n",
    "# delete first 5 experiments\n",
    "delete_experiments_batch(experiment_ids[0:5]) "
   ]
  },
  {
   "cell_type": "markdown",
   "metadata": {},
   "source": [
    "# search_experiments"
   ]
  },
  {
   "cell_type": "code",
   "execution_count": 7,
   "metadata": {},
   "outputs": [
    {
     "name": "stdout",
     "output_type": "stream",
     "text": [
      "All Experiments: 22\n",
      "\n",
      "active 111200603760646954 experiment_19\n",
      "\n",
      "\n",
      "active 943389658041022255 experiment_18\n",
      "\n",
      "\n",
      "active 865380250291382738 experiment_17\n",
      "\n",
      "\n",
      "active 916238131212933087 experiment_16\n",
      "\n",
      "\n",
      "active 565946306581776053 experiment_15\n",
      "\n",
      "\n",
      "active 624311120886216048 experiment_14\n",
      "\n",
      "\n",
      "active 104237866470749296 experiment_13\n",
      "\n",
      "\n",
      "active 257614893776426772 experiment_12\n",
      "\n",
      "\n",
      "active 453810967571484531 experiment_11\n",
      "\n",
      "\n",
      "active 504305225004660473 experiment_10\n",
      "\n",
      "\n",
      "active 613981886094593667 experiment_9\n",
      "\n",
      "\n",
      "active 407779474858682921 experiment_8\n",
      "\n",
      "\n",
      "active 537762131999529177 experiment_7\n",
      "\n",
      "\n",
      "active 190265291802784551 experiment_6\n",
      "\n",
      "\n",
      "active 640854053562562117 experiment_5\n",
      "\n",
      "\n",
      "deleted 127255371923198529 experiment_4\n",
      "\n",
      "\n",
      "deleted 909591828740645133 experiment_3\n",
      "\n",
      "\n",
      "deleted 344362744839655423 experiment_2\n",
      "\n",
      "\n",
      "deleted 432249622967982445 experiment_1\n",
      "\n",
      "\n",
      "deleted 255244586906175709 experiment_0\n",
      "\n",
      "\n",
      "active 237666689542649959 renamed-experiment\n",
      "\n",
      "\n",
      "active 0 Default\n",
      "\n",
      "\n"
     ]
    }
   ],
   "source": [
    "# search for all experiments and print them. view_type=mlflow.tracking.client.ViewType.ALL\n",
    "\n",
    "all_experiments = mlflow.search_experiments(view_type=mlflow.tracking.client.ViewType.ALL)\n",
    "print(f\"All Experiments: {len(all_experiments)}\\n\")\n",
    "for experiment in all_experiments:\n",
    "    \n",
    "    print(experiment.lifecycle_stage, experiment.experiment_id, experiment.name)\n",
    "    print(\"\\n\")"
   ]
  },
  {
   "cell_type": "code",
   "execution_count": 8,
   "metadata": {},
   "outputs": [
    {
     "name": "stdout",
     "output_type": "stream",
     "text": [
      "Active Experiments: 17 \n",
      "\n",
      "active 111200603760646954 experiment_19\n",
      "\n",
      "\n",
      "active 943389658041022255 experiment_18\n",
      "\n",
      "\n",
      "active 865380250291382738 experiment_17\n",
      "\n",
      "\n",
      "active 916238131212933087 experiment_16\n",
      "\n",
      "\n",
      "active 565946306581776053 experiment_15\n",
      "\n",
      "\n",
      "active 624311120886216048 experiment_14\n",
      "\n",
      "\n",
      "active 104237866470749296 experiment_13\n",
      "\n",
      "\n",
      "active 257614893776426772 experiment_12\n",
      "\n",
      "\n",
      "active 453810967571484531 experiment_11\n",
      "\n",
      "\n",
      "active 504305225004660473 experiment_10\n",
      "\n",
      "\n",
      "active 613981886094593667 experiment_9\n",
      "\n",
      "\n",
      "active 407779474858682921 experiment_8\n",
      "\n",
      "\n",
      "active 537762131999529177 experiment_7\n",
      "\n",
      "\n",
      "active 190265291802784551 experiment_6\n",
      "\n",
      "\n",
      "active 640854053562562117 experiment_5\n",
      "\n",
      "\n",
      "active 237666689542649959 renamed-experiment\n",
      "\n",
      "\n",
      "active 0 Default\n",
      "\n",
      "\n"
     ]
    }
   ],
   "source": [
    "# search for all active experiments and print them. view_type=mlflow.tracking.client.ViewType.ACTIVE_ONLY\n",
    "\n",
    "active_experiments = mlflow.search_experiments(view_type=mlflow.tracking.client.ViewType.ACTIVE_ONLY)\n",
    "\n",
    "print(f\"Active Experiments: {len(active_experiments)} \\n\")\n",
    "for experiment in active_experiments:\n",
    "    \n",
    "    print(experiment.lifecycle_stage, experiment.experiment_id, experiment.name)\n",
    "    print(\"\\n\")"
   ]
  },
  {
   "cell_type": "code",
   "execution_count": 9,
   "metadata": {},
   "outputs": [
    {
     "name": "stdout",
     "output_type": "stream",
     "text": [
      "Deleted Experiments: 5 \n",
      "\n",
      "deleted 127255371923198529 experiment_4\n",
      "\n",
      "\n",
      "deleted 909591828740645133 experiment_3\n",
      "\n",
      "\n",
      "deleted 344362744839655423 experiment_2\n",
      "\n",
      "\n",
      "deleted 432249622967982445 experiment_1\n",
      "\n",
      "\n",
      "deleted 255244586906175709 experiment_0\n",
      "\n",
      "\n"
     ]
    }
   ],
   "source": [
    "# search for deleted experiments and print them. view_type=mlflow.tracking.client.ViewType.DELETED_ONLY\n",
    "deleted_experiments = mlflow.search_experiments(view_type=mlflow.tracking.client.ViewType.DELETED_ONLY)\n",
    "\n",
    "print(f\"Deleted Experiments: {len(deleted_experiments)} \\n\")\n",
    "for experiment in deleted_experiments:\n",
    "    \n",
    "    print(experiment.lifecycle_stage, experiment.experiment_id, experiment.name)\n",
    "    print(\"\\n\")"
   ]
  },
  {
   "cell_type": "markdown",
   "metadata": {},
   "source": [
    "## max_results"
   ]
  },
  {
   "cell_type": "code",
   "execution_count": 10,
   "metadata": {},
   "outputs": [
    {
     "name": "stdout",
     "output_type": "stream",
     "text": [
      "Deleted Experiments: 4 \n",
      "\n",
      "active 111200603760646954 experiment_19\n",
      "\n",
      "\n",
      "active 943389658041022255 experiment_18\n",
      "\n",
      "\n",
      "active 865380250291382738 experiment_17\n",
      "\n",
      "\n",
      "active 916238131212933087 experiment_16\n",
      "\n",
      "\n"
     ]
    }
   ],
   "source": [
    "active_experiments = mlflow.search_experiments(view_type=mlflow.tracking.client.ViewType.ACTIVE_ONLY, max_results=4)\n",
    "print(f\"Deleted Experiments: {len(active_experiments)} \\n\")\n",
    "for experiment in active_experiments:\n",
    "    \n",
    "    print(experiment.lifecycle_stage, experiment.experiment_id, experiment.name)\n",
    "    print(\"\\n\")"
   ]
  },
  {
   "cell_type": "markdown",
   "metadata": {},
   "source": [
    "# Order By\n",
    "\n",
    "The following fields are supported:\n",
    "\n",
    "- experiment_id: Experiment ID\n",
    "\n",
    "- name: Experiment name\n",
    "\n",
    "- creation_time: Experiment creation time"
   ]
  },
  {
   "cell_type": "code",
   "execution_count": 11,
   "metadata": {},
   "outputs": [
    {
     "name": "stdout",
     "output_type": "stream",
     "text": [
      "Active experiments: 2\n",
      "\n",
      "active 111200603760646954 experiment_19\n",
      "\n",
      "\n",
      "active 943389658041022255 experiment_18\n",
      "\n",
      "\n"
     ]
    }
   ],
   "source": [
    "active_experiments = mlflow.search_experiments(view_type=mlflow.tracking.client.ViewType.ACTIVE_ONLY, max_results=2, order_by=[\"creation_time DESC\"])\n",
    "print(f\"Active experiments: {len(active_experiments)}\\n\")\n",
    "for experiment in active_experiments:\n",
    "    print(experiment.lifecycle_stage, experiment.experiment_id, experiment.name)\n",
    "    print(\"\\n\")"
   ]
  },
  {
   "cell_type": "markdown",
   "metadata": {},
   "source": [
    "## filter string"
   ]
  },
  {
   "cell_type": "code",
   "execution_count": 12,
   "metadata": {},
   "outputs": [
    {
     "name": "stdout",
     "output_type": "stream",
     "text": [
      "Experiments: 1\n",
      "\n",
      "deleted 432249622967982445 experiment_1\n",
      "\n",
      "\n"
     ]
    }
   ],
   "source": [
    "experiments = mlflow.search_experiments(view_type=mlflow.tracking.client.ViewType.ALL, max_results=2, filter_string=\"name = 'experiment_1'\")\n",
    "print(f\"Experiments: {len(experiments)}\\n\")\n",
    "for experiment in experiments:\n",
    "    print(experiment.lifecycle_stage, experiment.experiment_id, experiment.name)\n",
    "    print(\"\\n\")"
   ]
  },
  {
   "cell_type": "markdown",
   "metadata": {},
   "source": [
    "It is possible to combine multiple conditions, and use multiple string operators\n",
    "\n",
    "Operator: = (Equal to)"
   ]
  },
  {
   "cell_type": "code",
   "execution_count": 13,
   "metadata": {},
   "outputs": [
    {
     "name": "stdout",
     "output_type": "stream",
     "text": [
      "Experiments: 2\n",
      "\n",
      "active 916238131212933087 experiment_16 {'random_experiment': 'yes', 'data_source': 'cloud', 'data_quality': 'low', 'project_type': 'production', 'mlflow.note.content': 'This is a note', 'algorithm_type': 'ensemble', 'data_size': 'medium', 'data_type': 'semi-structured', 'inference_type': 'batch'}\n",
      "\n",
      "\n",
      "active 865380250291382738 experiment_17 {'random_experiment': 'yes', 'data_source': 'csv', 'data_quality': 'low', 'project_type': 'production', 'mlflow.note.content': 'This is a note', 'algorithm_type': 'neural network', 'data_size': 'medium', 'data_type': 'structured', 'inference_type': 'batch'}\n",
      "\n",
      "\n"
     ]
    }
   ],
   "source": [
    "experiments = mlflow.search_experiments(view_type=mlflow.tracking.client.ViewType.ACTIVE_ONLY,\n",
    "                                        max_results=10,\n",
    "                                        filter_string=\"tags.project_type = 'production' AND tags.inference_type = 'batch'\",\n",
    "                                        order_by=[\"last_update_time ASC\"]\n",
    "                                    )\n",
    "print(f\"Experiments: {len(experiments)}\\n\")\n",
    "for experiment in experiments:\n",
    "    print(experiment.lifecycle_stage, experiment.experiment_id, experiment.name, experiment.tags)\n",
    "    print(\"\\n\")"
   ]
  },
  {
   "cell_type": "markdown",
   "metadata": {},
   "source": [
    "Operator: != (not equal)"
   ]
  },
  {
   "cell_type": "code",
   "execution_count": 14,
   "metadata": {},
   "outputs": [
    {
     "name": "stdout",
     "output_type": "stream",
     "text": [
      "Experiments: 8\n",
      "\n",
      "active 190265291802784551 experiment_6 {'random_experiment': 'yes', 'data_source': 'database', 'data_quality': 'low', 'project_type': 'development', 'mlflow.note.content': 'This is a note', 'algorithm_type': 'linear', 'data_size': 'small', 'data_type': 'structured', 'inference_type': 'batch'}\n",
      "\n",
      "\n",
      "active 537762131999529177 experiment_7 {'random_experiment': 'yes', 'data_source': 'database', 'data_quality': 'high', 'project_type': 'research', 'mlflow.note.content': 'This is a note', 'algorithm_type': 'linear', 'data_size': 'medium', 'data_type': 'semi-structured', 'inference_type': 'batch'}\n",
      "\n",
      "\n",
      "active 407779474858682921 experiment_8 {'random_experiment': 'yes', 'data_source': 'api', 'data_quality': 'medium', 'project_type': 'experiment', 'mlflow.note.content': 'This is a note', 'algorithm_type': 'tree', 'data_size': 'large', 'data_type': 'semi-structured', 'inference_type': 'batch'}\n",
      "\n",
      "\n",
      "active 453810967571484531 experiment_11 {'random_experiment': 'yes', 'data_source': 'cloud', 'data_quality': 'medium', 'project_type': 'development', 'mlflow.note.content': 'This is a note', 'algorithm_type': 'ensemble', 'data_size': 'small', 'data_type': 'unstructured', 'inference_type': 'batch'}\n",
      "\n",
      "\n",
      "active 104237866470749296 experiment_13 {'random_experiment': 'yes', 'data_source': 'api', 'data_quality': 'low', 'project_type': 'development', 'mlflow.note.content': 'This is a note', 'algorithm_type': 'neural network', 'data_size': 'medium', 'data_type': 'semi-structured', 'inference_type': 'batch'}\n",
      "\n",
      "\n",
      "active 624311120886216048 experiment_14 {'random_experiment': 'yes', 'data_source': 'csv', 'data_quality': 'high', 'project_type': 'research', 'mlflow.note.content': 'This is a note', 'algorithm_type': 'linear', 'data_size': 'medium', 'data_type': 'structured', 'inference_type': 'batch'}\n",
      "\n",
      "\n",
      "active 943389658041022255 experiment_18 {'random_experiment': 'yes', 'data_source': 'streaming', 'data_quality': 'low', 'project_type': 'development', 'mlflow.note.content': 'This is a note', 'algorithm_type': 'tree', 'data_size': 'small', 'data_type': 'structured', 'inference_type': 'batch'}\n",
      "\n",
      "\n",
      "active 111200603760646954 experiment_19 {'random_experiment': 'yes', 'data_source': 'streaming', 'data_quality': 'high', 'project_type': 'development', 'mlflow.note.content': 'This is a note', 'algorithm_type': 'ensemble', 'data_size': 'large', 'data_type': 'structured', 'inference_type': 'batch'}\n",
      "\n",
      "\n"
     ]
    }
   ],
   "source": [
    "experiments = mlflow.search_experiments(view_type=mlflow.tracking.client.ViewType.ACTIVE_ONLY,\n",
    "                                        max_results=10,\n",
    "                                        filter_string=\"tags.project_type != 'production' AND tags.inference_type = 'batch'\",\n",
    "                                        order_by=[\"last_update_time ASC\"]\n",
    "                                    )\n",
    "print(f\"Experiments: {len(experiments)}\\n\")\n",
    "for experiment in experiments:\n",
    "    print(experiment.lifecycle_stage, experiment.experiment_id, experiment.name, experiment.tags)\n",
    "    print(\"\\n\")"
   ]
  },
  {
   "cell_type": "markdown",
   "metadata": {},
   "source": [
    "Operator: LIKE ( Case-sensitive pattern match)"
   ]
  },
  {
   "cell_type": "code",
   "execution_count": 15,
   "metadata": {},
   "outputs": [
    {
     "name": "stdout",
     "output_type": "stream",
     "text": [
      "Experiments: 4\n",
      "\n",
      "active 640854053562562117 experiment_5 {'random_experiment': 'yes', 'data_source': 'streaming', 'data_quality': 'high', 'project_type': 'production', 'mlflow.note.content': 'This is a note', 'algorithm_type': 'ensemble', 'data_size': 'small', 'data_type': 'semi-structured', 'inference_type': 'online'}\n",
      "\n",
      "\n",
      "active 407779474858682921 experiment_8 {'random_experiment': 'yes', 'data_source': 'api', 'data_quality': 'medium', 'project_type': 'experiment', 'mlflow.note.content': 'This is a note', 'algorithm_type': 'tree', 'data_size': 'large', 'data_type': 'semi-structured', 'inference_type': 'batch'}\n",
      "\n",
      "\n",
      "active 104237866470749296 experiment_13 {'random_experiment': 'yes', 'data_source': 'api', 'data_quality': 'low', 'project_type': 'development', 'mlflow.note.content': 'This is a note', 'algorithm_type': 'neural network', 'data_size': 'medium', 'data_type': 'semi-structured', 'inference_type': 'batch'}\n",
      "\n",
      "\n",
      "active 916238131212933087 experiment_16 {'random_experiment': 'yes', 'data_source': 'cloud', 'data_quality': 'low', 'project_type': 'production', 'mlflow.note.content': 'This is a note', 'algorithm_type': 'ensemble', 'data_size': 'medium', 'data_type': 'semi-structured', 'inference_type': 'batch'}\n",
      "\n",
      "\n"
     ]
    }
   ],
   "source": [
    "experiments = mlflow.search_experiments(view_type=mlflow.tracking.client.ViewType.ACTIVE_ONLY,\n",
    "                                        max_results=10,\n",
    "                                        filter_string=\"tags.project_type != 'research' AND tags.data_type LIKE 'semi%'\",\n",
    "                                        order_by=[\"last_update_time ASC\"]\n",
    "                                    )\n",
    "print(f\"Experiments: {len(experiments)}\\n\")\n",
    "for experiment in experiments:\n",
    "    print(experiment.lifecycle_stage, experiment.experiment_id, experiment.name, experiment.tags)\n",
    "    print(\"\\n\")"
   ]
  },
  {
   "cell_type": "markdown",
   "metadata": {},
   "source": [
    "Operator: ILIKE (Case-insensitive pattern match)"
   ]
  },
  {
   "cell_type": "code",
   "execution_count": 16,
   "metadata": {},
   "outputs": [
    {
     "name": "stdout",
     "output_type": "stream",
     "text": [
      "Experiments: 4\n",
      "\n",
      "active 640854053562562117 experiment_5 {'random_experiment': 'yes', 'data_source': 'streaming', 'data_quality': 'high', 'project_type': 'production', 'mlflow.note.content': 'This is a note', 'algorithm_type': 'ensemble', 'data_size': 'small', 'data_type': 'semi-structured', 'inference_type': 'online'}\n",
      "\n",
      "\n",
      "active 407779474858682921 experiment_8 {'random_experiment': 'yes', 'data_source': 'api', 'data_quality': 'medium', 'project_type': 'experiment', 'mlflow.note.content': 'This is a note', 'algorithm_type': 'tree', 'data_size': 'large', 'data_type': 'semi-structured', 'inference_type': 'batch'}\n",
      "\n",
      "\n",
      "active 104237866470749296 experiment_13 {'random_experiment': 'yes', 'data_source': 'api', 'data_quality': 'low', 'project_type': 'development', 'mlflow.note.content': 'This is a note', 'algorithm_type': 'neural network', 'data_size': 'medium', 'data_type': 'semi-structured', 'inference_type': 'batch'}\n",
      "\n",
      "\n",
      "active 916238131212933087 experiment_16 {'random_experiment': 'yes', 'data_source': 'cloud', 'data_quality': 'low', 'project_type': 'production', 'mlflow.note.content': 'This is a note', 'algorithm_type': 'ensemble', 'data_size': 'medium', 'data_type': 'semi-structured', 'inference_type': 'batch'}\n",
      "\n",
      "\n"
     ]
    }
   ],
   "source": [
    "experiments = mlflow.search_experiments(view_type=mlflow.tracking.client.ViewType.ACTIVE_ONLY,\n",
    "                                        max_results=10,\n",
    "                                        filter_string=\"tags.project_type != 'research' AND tags.data_type ILIKE 'sEMi%'\",\n",
    "                                        order_by=[\"last_update_time ASC\"]\n",
    "                                    )\n",
    "print(f\"Experiments: {len(experiments)}\\n\")\n",
    "for experiment in experiments:\n",
    "    print(experiment.lifecycle_stage, experiment.experiment_id, experiment.name, experiment.tags)\n",
    "    print(\"\\n\")"
   ]
  },
  {
   "cell_type": "code",
   "execution_count": null,
   "metadata": {},
   "outputs": [],
   "source": []
  }
 ],
 "metadata": {
  "kernelspec": {
   "display_name": ".venv",
   "language": "python",
   "name": "python3"
  },
  "language_info": {
   "codemirror_mode": {
    "name": "ipython",
    "version": 3
   },
   "file_extension": ".py",
   "mimetype": "text/x-python",
   "name": "python",
   "nbconvert_exporter": "python",
   "pygments_lexer": "ipython3",
   "version": "3.13.0"
  }
 },
 "nbformat": 4,
 "nbformat_minor": 2
}
