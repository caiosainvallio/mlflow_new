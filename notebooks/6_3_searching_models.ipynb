{
 "cells": [
  {
   "cell_type": "code",
   "execution_count": 1,
   "metadata": {},
   "outputs": [
    {
     "data": {
      "text/plain": [
       "'2.21.3'"
      ]
     },
     "execution_count": 1,
     "metadata": {},
     "output_type": "execute_result"
    }
   ],
   "source": [
    "import mlflow\n",
    "\n",
    "mlflow.__version__"
   ]
  },
  {
   "cell_type": "code",
   "execution_count": 2,
   "metadata": {},
   "outputs": [],
   "source": [
    "from src.utils.folder_operations import get_project_root\n",
    "\n",
    "# set mlflow tracking uri\n",
    "mlflow.set_tracking_uri(\n",
    "    (get_project_root() / 'mlflow_new/mlruns').as_uri()\n",
    ")"
   ]
  },
  {
   "cell_type": "markdown",
   "metadata": {},
   "source": [
    "# Search for Model Versions and Registered Models\n",
    "\n",
    "## Searching for Model Versions\n",
    "\n",
    "Search for model versions that satisfy the filter criteria."
   ]
  },
  {
   "cell_type": "code",
   "execution_count": 5,
   "metadata": {},
   "outputs": [],
   "source": [
    "from src.utils.model_batch import create_registered_models_batch"
   ]
  },
  {
   "cell_type": "markdown",
   "metadata": {},
   "source": [
    "## Create Testing Data"
   ]
  },
  {
   "cell_type": "code",
   "execution_count": 6,
   "metadata": {},
   "outputs": [
    {
     "name": "stderr",
     "output_type": "stream",
     "text": [
      "2025/04/21 22:43:44 WARNING mlflow.utils.environment: Failed to resolve installed pip version. ``pip`` will be added to conda.yaml environment spec without a version specifier.\n",
      "\u001b[31m2025/04/21 22:43:44 WARNING mlflow.models.model: Model logged without a signature and input example. Please set `input_example` parameter when logging the model to auto infer the model signature.\u001b[0m\n",
      "Successfully registered model 'model_1'.\n",
      "Created version '1' of model 'model_1'.\n",
      "2025/04/21 22:43:45 WARNING mlflow.utils.environment: Failed to resolve installed pip version. ``pip`` will be added to conda.yaml environment spec without a version specifier.\n",
      "\u001b[31m2025/04/21 22:43:45 WARNING mlflow.models.model: Model logged without a signature and input example. Please set `input_example` parameter when logging the model to auto infer the model signature.\u001b[0m\n",
      "Registered model 'model_1' already exists. Creating a new version of this model...\n",
      "Created version '2' of model 'model_1'.\n",
      "2025/04/21 22:43:46 WARNING mlflow.utils.environment: Failed to resolve installed pip version. ``pip`` will be added to conda.yaml environment spec without a version specifier.\n",
      "\u001b[31m2025/04/21 22:43:46 WARNING mlflow.models.model: Model logged without a signature and input example. Please set `input_example` parameter when logging the model to auto infer the model signature.\u001b[0m\n",
      "Registered model 'model_1' already exists. Creating a new version of this model...\n",
      "Created version '3' of model 'model_1'.\n",
      "2025/04/21 22:43:47 WARNING mlflow.utils.environment: Failed to resolve installed pip version. ``pip`` will be added to conda.yaml environment spec without a version specifier.\n",
      "\u001b[31m2025/04/21 22:43:47 WARNING mlflow.models.model: Model logged without a signature and input example. Please set `input_example` parameter when logging the model to auto infer the model signature.\u001b[0m\n",
      "Registered model 'model_1' already exists. Creating a new version of this model...\n",
      "Created version '4' of model 'model_1'.\n",
      "2025/04/21 22:43:49 WARNING mlflow.utils.environment: Failed to resolve installed pip version. ``pip`` will be added to conda.yaml environment spec without a version specifier.\n",
      "\u001b[31m2025/04/21 22:43:49 WARNING mlflow.models.model: Model logged without a signature and input example. Please set `input_example` parameter when logging the model to auto infer the model signature.\u001b[0m\n",
      "Successfully registered model 'model_2'.\n",
      "Created version '1' of model 'model_2'.\n",
      "2025/04/21 22:43:50 WARNING mlflow.utils.environment: Failed to resolve installed pip version. ``pip`` will be added to conda.yaml environment spec without a version specifier.\n",
      "\u001b[31m2025/04/21 22:43:50 WARNING mlflow.models.model: Model logged without a signature and input example. Please set `input_example` parameter when logging the model to auto infer the model signature.\u001b[0m\n",
      "Registered model 'model_2' already exists. Creating a new version of this model...\n",
      "Created version '2' of model 'model_2'.\n",
      "2025/04/21 22:43:51 WARNING mlflow.utils.environment: Failed to resolve installed pip version. ``pip`` will be added to conda.yaml environment spec without a version specifier.\n",
      "\u001b[31m2025/04/21 22:43:51 WARNING mlflow.models.model: Model logged without a signature and input example. Please set `input_example` parameter when logging the model to auto infer the model signature.\u001b[0m\n",
      "Registered model 'model_2' already exists. Creating a new version of this model...\n",
      "Created version '3' of model 'model_2'.\n",
      "2025/04/21 22:43:52 WARNING mlflow.utils.environment: Failed to resolve installed pip version. ``pip`` will be added to conda.yaml environment spec without a version specifier.\n",
      "\u001b[31m2025/04/21 22:43:52 WARNING mlflow.models.model: Model logged without a signature and input example. Please set `input_example` parameter when logging the model to auto infer the model signature.\u001b[0m\n",
      "Registered model 'model_2' already exists. Creating a new version of this model...\n",
      "Created version '4' of model 'model_2'.\n"
     ]
    }
   ],
   "source": [
    "create_registered_models_batch(n_models=3, n_versions=5)"
   ]
  },
  {
   "cell_type": "code",
   "execution_count": 7,
   "metadata": {},
   "outputs": [],
   "source": [
    "model_versions = mlflow.search_model_versions(filter_string=\"name = 'model_1'\")"
   ]
  },
  {
   "cell_type": "code",
   "execution_count": 8,
   "metadata": {},
   "outputs": [
    {
     "data": {
      "text/plain": [
       "[<ModelVersion: aliases=[], creation_timestamp=1745286227953, current_stage='None', description=None, last_updated_timestamp=1745286227953, name='model_1', run_id='35c19229fe31415f8d72f61c9324f4b0', run_link=None, source='file:///Users/caiosainvallio/projects/mlflow_new/mlruns/0/35c19229fe31415f8d72f61c9324f4b0/artifacts/model', status='READY', status_message=None, tags={'task_type': 'classification', 'validation_status': 'pending'}, user_id=None, version=4>,\n",
       " <ModelVersion: aliases=[], creation_timestamp=1745286226799, current_stage='None', description=None, last_updated_timestamp=1745286226799, name='model_1', run_id='2394fa28ff5442c9beb41991972f5816', run_link=None, source='file:///Users/caiosainvallio/projects/mlflow_new/mlruns/0/2394fa28ff5442c9beb41991972f5816/artifacts/model', status='READY', status_message=None, tags={'task_type': 'regression', 'validation_status': 'completed'}, user_id=None, version=3>,\n",
       " <ModelVersion: aliases=[], creation_timestamp=1745286225642, current_stage='None', description=None, last_updated_timestamp=1745286225642, name='model_1', run_id='86ed09a56c3b45d2ae05a27c7f67de07', run_link=None, source='file:///Users/caiosainvallio/projects/mlflow_new/mlruns/0/86ed09a56c3b45d2ae05a27c7f67de07/artifacts/model', status='READY', status_message=None, tags={'task_type': 'regression', 'validation_status': 'completed'}, user_id=None, version=2>,\n",
       " <ModelVersion: aliases=[], creation_timestamp=1745286224531, current_stage='None', description=None, last_updated_timestamp=1745286224531, name='model_1', run_id='79c1ad80fd34486e923958f467f40032', run_link=None, source='file:///Users/caiosainvallio/projects/mlflow_new/mlruns/0/79c1ad80fd34486e923958f467f40032/artifacts/model', status='READY', status_message=None, tags={'task_type': 'classification', 'validation_status': 'completed'}, user_id=None, version=1>]"
      ]
     },
     "execution_count": 8,
     "metadata": {},
     "output_type": "execute_result"
    }
   ],
   "source": [
    "model_versions"
   ]
  },
  {
   "cell_type": "code",
   "execution_count": 9,
   "metadata": {},
   "outputs": [],
   "source": [
    "model_versions = mlflow.search_model_versions(filter_string=\"name = 'model_2' AND tags.validation_status = 'in progress'\")"
   ]
  },
  {
   "cell_type": "code",
   "execution_count": 10,
   "metadata": {},
   "outputs": [
    {
     "data": {
      "text/plain": [
       "[<ModelVersion: aliases=[], creation_timestamp=1745286230191, current_stage='None', description=None, last_updated_timestamp=1745286230191, name='model_2', run_id='0121249e7d3044e7a3dd423da970e49f', run_link=None, source='file:///Users/caiosainvallio/projects/mlflow_new/mlruns/0/0121249e7d3044e7a3dd423da970e49f/artifacts/model', status='READY', status_message=None, tags={'task_type': 'clustering', 'validation_status': 'in progress'}, user_id=None, version=2>,\n",
       " <ModelVersion: aliases=[], creation_timestamp=1745286229035, current_stage='None', description=None, last_updated_timestamp=1745286229035, name='model_2', run_id='53b2d862d8354f66853b14ff4d4a2b02', run_link=None, source='file:///Users/caiosainvallio/projects/mlflow_new/mlruns/0/53b2d862d8354f66853b14ff4d4a2b02/artifacts/model', status='READY', status_message=None, tags={'task_type': 'classification', 'validation_status': 'in progress'}, user_id=None, version=1>]"
      ]
     },
     "execution_count": 10,
     "metadata": {},
     "output_type": "execute_result"
    }
   ],
   "source": [
    "model_versions"
   ]
  },
  {
   "cell_type": "markdown",
   "metadata": {},
   "source": [
    "## Using LIKE"
   ]
  },
  {
   "cell_type": "code",
   "execution_count": 11,
   "metadata": {},
   "outputs": [],
   "source": [
    "model_versions = mlflow.search_model_versions(filter_string=\"name LIKE 'model%' AND tags.validation_status = 'in progress'\")"
   ]
  },
  {
   "cell_type": "code",
   "execution_count": 12,
   "metadata": {},
   "outputs": [
    {
     "data": {
      "text/plain": [
       "[<ModelVersion: aliases=[], creation_timestamp=1745286230191, current_stage='None', description=None, last_updated_timestamp=1745286230191, name='model_2', run_id='0121249e7d3044e7a3dd423da970e49f', run_link=None, source='file:///Users/caiosainvallio/projects/mlflow_new/mlruns/0/0121249e7d3044e7a3dd423da970e49f/artifacts/model', status='READY', status_message=None, tags={'task_type': 'clustering', 'validation_status': 'in progress'}, user_id=None, version=2>,\n",
       " <ModelVersion: aliases=[], creation_timestamp=1745286229035, current_stage='None', description=None, last_updated_timestamp=1745286229035, name='model_2', run_id='53b2d862d8354f66853b14ff4d4a2b02', run_link=None, source='file:///Users/caiosainvallio/projects/mlflow_new/mlruns/0/53b2d862d8354f66853b14ff4d4a2b02/artifacts/model', status='READY', status_message=None, tags={'task_type': 'classification', 'validation_status': 'in progress'}, user_id=None, version=1>]"
      ]
     },
     "execution_count": 12,
     "metadata": {},
     "output_type": "execute_result"
    }
   ],
   "source": [
    "model_versions"
   ]
  },
  {
   "cell_type": "markdown",
   "metadata": {},
   "source": [
    "# Searching for registered Models\n",
    "\n",
    "## Filter Strings Examples"
   ]
  },
  {
   "cell_type": "code",
   "execution_count": 13,
   "metadata": {},
   "outputs": [],
   "source": [
    "registered_models = mlflow.search_registered_models(filter_string=\"tags.model_owner = 'Alice'\")"
   ]
  },
  {
   "cell_type": "code",
   "execution_count": 14,
   "metadata": {},
   "outputs": [
    {
     "name": "stdout",
     "output_type": "stream",
     "text": [
      "Registered model:\n",
      "model_1\n",
      "Tags:\n",
      "{'organization': 'Umbrella', 'model_owner': 'Alice', 'model_type': 'random_forest'}\n",
      "\n",
      "\n",
      "Registered model:\n",
      "model_2\n",
      "Tags:\n",
      "{'organization': 'Umbrella', 'model_owner': 'Alice', 'model_type': 'random_forest'}\n",
      "\n",
      "\n"
     ]
    }
   ],
   "source": [
    "for registered_model in registered_models:\n",
    "    print(\"Registered model:\")\n",
    "    print(registered_model.name)\n",
    "    print(\"Tags:\")\n",
    "    print(registered_model.tags)\n",
    "    print(\"\\n\")"
   ]
  },
  {
   "cell_type": "code",
   "execution_count": 15,
   "metadata": {},
   "outputs": [],
   "source": [
    "registered_models = mlflow.search_registered_models(filter_string=\"name LIKE '%_2%'\")"
   ]
  },
  {
   "cell_type": "code",
   "execution_count": 16,
   "metadata": {},
   "outputs": [
    {
     "name": "stdout",
     "output_type": "stream",
     "text": [
      "Registered model:\n",
      "model_2\n",
      "Tags:\n",
      "{'organization': 'Umbrella', 'model_owner': 'Alice', 'model_type': 'random_forest'}\n",
      "\n",
      "\n"
     ]
    }
   ],
   "source": [
    "for registered_model in registered_models:\n",
    "    print(\"Registered model:\")\n",
    "    print(registered_model.name)\n",
    "    print(\"Tags:\")\n",
    "    print(registered_model.tags)\n",
    "    print(\"\\n\")"
   ]
  },
  {
   "cell_type": "code",
   "execution_count": null,
   "metadata": {},
   "outputs": [],
   "source": []
  },
  {
   "cell_type": "code",
   "execution_count": null,
   "metadata": {},
   "outputs": [],
   "source": []
  },
  {
   "cell_type": "code",
   "execution_count": null,
   "metadata": {},
   "outputs": [],
   "source": []
  }
 ],
 "metadata": {
  "kernelspec": {
   "display_name": ".venv",
   "language": "python",
   "name": "python3"
  },
  "language_info": {
   "codemirror_mode": {
    "name": "ipython",
    "version": 3
   },
   "file_extension": ".py",
   "mimetype": "text/x-python",
   "name": "python",
   "nbconvert_exporter": "python",
   "pygments_lexer": "ipython3",
   "version": "3.13.0"
  }
 },
 "nbformat": 4,
 "nbformat_minor": 2
}
